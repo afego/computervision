{
 "cells": [
  {
   "cell_type": "code",
   "execution_count": 1,
   "metadata": {},
   "outputs": [
    {
     "name": "stdout",
     "output_type": "stream",
     "text": [
      "E:\\GitHub\\computervision\n"
     ]
    }
   ],
   "source": [
    "cd E:/GitHub/computervision"
   ]
  },
  {
   "cell_type": "code",
   "execution_count": 2,
   "metadata": {},
   "outputs": [],
   "source": [
    "import torch\n",
    "import os\n",
    "# os.environ['PYTORCH_CUDA_ALLOC_CONF'] = 'expandable_segments:True'\n",
    "\n",
    "from torch.nn import CrossEntropyLoss\n",
    "from datetime import datetime\n",
    "from torch.optim import lr_scheduler, SGD, NAdam, Adam\n",
    "from modules.training_util import PytorchDataset, PytorchTraining, EarlyStopping\n",
    "from modules.models_util import ViT"
   ]
  },
  {
   "cell_type": "code",
   "execution_count": 3,
   "metadata": {},
   "outputs": [],
   "source": [
    "# Variables for continuing previous training\n",
    "CONTINUE_TRAINING_DIR = None\n",
    "# CONTINUE_TRAINING_DIR = 'notebooks/vit/models/'\n",
    "\n",
    "MODEL_WEIGHTS_PATH = None\n",
    "\n",
    "if CONTINUE_TRAINING_DIR:\n",
    "    MODEL_WEIGHTS_PATH = os.path.join(CONTINUE_TRAINING_DIR,'epoch_15.pth')\n",
    "\n",
    "# CONFIG VARIABLES\n",
    "FULLY_TRAIN = True\n",
    "SAVE_WEIGHTS = True\n",
    "\n",
    "base_path = 'E:/Datasets/cor-splits'\n",
    "DATA_DIR = [\n",
    "    # os.path.join(base_path,'sgkf-8-1-1-size-540'),\n",
    "    # os.path.join(base_path,'underperforming_cameras_96'),\n",
    "    # os.path.join(base_path,'underperforming_cameras_15'),\n",
    "    # os.path.join(base_path,'underperforming_cameras_30'),\n",
    "    # os.path.join(base_path,'underperforming_cameras_60_v2'),\n",
    "    # os.path.join(base_path,'underperforming_cameras_61_15img'),\n",
    "    os.path.join(base_path,'underperforming_cameras_59_45imgs'),\n",
    "    # os.path.join(base_path,'underperforming_cameras_87_30imgs_poca'),\n",
    "    # os.path.join(base_path,'random_cameras_61_30imgs'),\n",
    "    # os.path.join(base_path,'random_cameras_59_45imgs'),\n",
    "    # os.path.join(base_path,'random_cameras_71_15img'),\n",
    "    # os.path.join(base_path,'underperforming_cameras_60_v2_euro'),\n",
    "    # os.path.join(base_path,'underperforming_cameras_60_v2_itsc'),\n",
    "    # os.path.join(base_path,'sgkf-8-2-size-1010'),\n",
    "    # 'E:/Datasets/itsc_flood_dataset'\n",
    "    ]\n",
    "START_EPOCH = 1 # Change it from 1 if you're continuing an existing run\n",
    "N_EPOCHS = 50\n",
    "BATCH_SIZE = 16\n",
    "SAVE_INTERVAL = 2 # How many epochs between each backup\n",
    "## Learning Rate Scheduler\n",
    "LR = [1e-03]  # When continuing a existing run, update it to the last epoch LR value\n",
    "LR_EPOCH_SCHEDULE = 8  # Number of epochs before altering LR\n",
    "LR_GAMMA = 0.1\n",
    "## Early Stopping\n",
    "PATIENCE = 10\n",
    "MIN_DELTA = 0\n",
    "MIN_EPOCH = 10 # Number of epochs before starting patience counter\n",
    "##\n",
    "BP = [0.5]"
   ]
  },
  {
   "cell_type": "code",
   "execution_count": 4,
   "metadata": {},
   "outputs": [
    {
     "name": "stdout",
     "output_type": "stream",
     "text": [
      "Device = cuda:0\n"
     ]
    }
   ],
   "source": [
    "device = torch.device(\"cuda:0\" if torch.cuda.is_available() else \"cpu\")\n",
    "print(f\"Device = {device}\")\n",
    "archs = ['b32']"
   ]
  },
  {
   "cell_type": "code",
   "execution_count": null,
   "metadata": {},
   "outputs": [
    {
     "name": "stdout",
     "output_type": "stream",
     "text": [
      "All parameters for model VisionTransformer requires grad.\n",
      "Saving model to folder notebooks/vit\\models\\2024-12-07 11-01-25\n",
      "\n",
      "Model VisionTransformer b32\n",
      "Fully Trained = True\n",
      "Dataset E:/Datasets/cor-splits\\underperforming_cameras_96\n",
      "Learning Rate Epoch Schedule = 8                    \n",
      "Learning Rate Gamma = 0.1\n",
      "Optimizer = SGD\n",
      "Batch Size = 16\n",
      "Transforms = Compose(\n",
      "    <modules.image_util.Erase object at 0x000001DFAD2212B0>\n",
      "    <modules.image_util.Equalize object at 0x000001DFAD221580>\n",
      "    <modules.image_util.LowerBrightness object at 0x000001DFAD2211C0>\n",
      "    <modules.image_util.UnsharpMask object at 0x000001DFAD221070>\n",
      "    RandomHorizontalFlip(p=0.5)\n",
      "    Resize(size=256, interpolation=bicubic, max_size=None, antialias=True)\n",
      "    CenterCrop(size=(224, 224))\n",
      "    ToTensor()\n",
      "    Normalize(mean=[0.485 0.456 0.406], std=[0.229 0.224 0.225])\n",
      ")\n",
      "\n",
      "\n",
      "\n",
      "Epoch 1/50\n",
      "----------\n",
      "\n"
     ]
    },
    {
     "name": "stderr",
     "output_type": "stream",
     "text": [
      "c:\\Users\\Adm\\anaconda3\\envs\\computervision\\Lib\\site-packages\\torch\\nn\\functional.py:5476: UserWarning: 1Torch was not compiled with flash attention. (Triggered internally at C:\\cb\\pytorch_1000000000000\\work\\aten\\src\\ATen\\native\\transformers\\cuda\\sdp_utils.cpp:263.)\n",
      "  attn_output = scaled_dot_product_attention(q, k, v, attn_mask, dropout_p, is_causal)\n"
     ]
    },
    {
     "name": "stdout",
     "output_type": "stream",
     "text": [
      "train Loss: 0.6283 Acc: 0.6471\n",
      "val Loss: 0.5617 Acc: 0.6962\n",
      "Epoch duration: 3 m 56s\n",
      "Learning Rate = 0.001\n",
      "\n",
      "\n",
      "\n",
      "Epoch 2/50\n",
      "----------\n",
      "\n",
      "train Loss: 0.4470 Acc: 0.8091\n",
      "val Loss: 0.5827 Acc: 0.6667\n",
      "Epoch duration: 2 m 2s\n",
      "Learning Rate = 0.001\n",
      "\n",
      "\n",
      "\n",
      "Epoch 3/50\n",
      "----------\n",
      "\n",
      "train Loss: 0.3056 Acc: 0.8838\n",
      "val Loss: 0.5286 Acc: 0.7295\n",
      "Epoch duration: 2 m 1s\n",
      "Learning Rate = 0.001\n",
      "\n",
      "\n",
      "\n",
      "Epoch 4/50\n",
      "----------\n",
      "\n",
      "train Loss: 0.2179 Acc: 0.9201\n"
     ]
    }
   ],
   "source": [
    "for arch in archs:\n",
    "    for dir in DATA_DIR:\n",
    "        for lr in LR:\n",
    "            for brightness in BP:\n",
    "                vit = ViT(architecture=arch,bp=brightness)\n",
    "                \n",
    "                model = vit.load(MODEL_WEIGHTS_PATH, FULLY_TRAIN)\n",
    "                model = model.to(device)\n",
    "                \n",
    "                criterion = CrossEntropyLoss()\n",
    "\n",
    "                if FULLY_TRAIN:\n",
    "                    params = model.parameters()\n",
    "                else:\n",
    "                    params = model.heads.parameters()\n",
    "                    \n",
    "                optimizer = SGD(params, lr=lr)\n",
    "                # optimizer = Adam(params, lr, betas=(0.8,0.999),eps=1e-7)\n",
    "                # optimizer = NAdam(params, lr, betas=(0.8,0.999),eps=1e-7)\n",
    "                \n",
    "                step_lr_scheduler = lr_scheduler.StepLR(optimizer, step_size=LR_EPOCH_SCHEDULE, gamma=LR_GAMMA)\n",
    "                es = EarlyStopping(patience=PATIENCE, delta=MIN_DELTA, min_epoch=MIN_EPOCH)\n",
    "                dataset = PytorchDataset(dir, vit.data_transforms, BATCH_SIZE, num_workers=1)\n",
    "\n",
    "                working_folder = 'notebooks/vit'\n",
    "                models_folder = 'models'\n",
    "\n",
    "                curr_time = datetime.now()\n",
    "                curr_time = curr_time.strftime(\"%Y-%m-%d %H-%M-%S\")\n",
    "\n",
    "                output_folder = os.path.join(working_folder, models_folder)\n",
    "                output_folder = os.path.join(output_folder, curr_time)\n",
    "                \n",
    "                if not os.path.exists(output_folder):\n",
    "                    os.makedirs(output_folder)\n",
    "\n",
    "                trainer = PytorchTraining(device, dataset, output_folder)\n",
    "                model = trainer.train_pytorch_model(model, criterion, optimizer, vit, step_lr_scheduler, es, START_EPOCH, N_EPOCHS, SAVE_INTERVAL, SAVE_WEIGHTS)"
   ]
  }
 ],
 "metadata": {
  "kernelspec": {
   "display_name": "computervision",
   "language": "python",
   "name": "python3"
  },
  "language_info": {
   "codemirror_mode": {
    "name": "ipython",
    "version": 3
   },
   "file_extension": ".py",
   "mimetype": "text/x-python",
   "name": "python",
   "nbconvert_exporter": "python",
   "pygments_lexer": "ipython3",
   "version": "3.12.1"
  }
 },
 "nbformat": 4,
 "nbformat_minor": 2
}

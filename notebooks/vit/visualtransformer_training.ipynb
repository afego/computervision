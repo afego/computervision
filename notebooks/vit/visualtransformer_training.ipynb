{
 "cells": [
  {
   "cell_type": "code",
   "execution_count": 1,
   "metadata": {},
   "outputs": [
    {
     "name": "stdout",
     "output_type": "stream",
     "text": [
      "e:\\GitHub\\computervision\n"
     ]
    }
   ],
   "source": [
    "cd ../.."
   ]
  },
  {
   "cell_type": "code",
   "execution_count": 2,
   "metadata": {},
   "outputs": [],
   "source": [
    "import torch\n",
    "import torch.nn as nn\n",
    "import torch.optim as optim\n",
    "from torch.optim import lr_scheduler\n",
    "import numpy as np\n",
    "import torchvision\n",
    "from torchvision import datasets, models, transforms\n",
    "import matplotlib.pyplot as plt\n",
    "import time\n",
    "import os\n",
    "import copy"
   ]
  },
  {
   "cell_type": "code",
   "execution_count": 3,
   "metadata": {},
   "outputs": [],
   "source": [
    "# vit_b_16\n",
    "mean = np.array([0.485, 0.456, 0.406])\n",
    "std = np.array([0.229, 0.224, 0.225])\n",
    "\n",
    "data_transforms = {\n",
    "    'train': transforms.Compose([\n",
    "        transforms.RandomHorizontalFlip(),\n",
    "        # transforms.InterpolationMode('bilinear'),\n",
    "        transforms.Resize(256, transforms.InterpolationMode('bilinear')),\n",
    "        transforms.CenterCrop(224),\n",
    "        transforms.ToTensor(),\n",
    "        transforms.Normalize(mean, std)\n",
    "    ]),\n",
    "    'val': transforms.Compose([\n",
    "        # transforms.InterpolationMode('bilinear'),\n",
    "        transforms.Resize(256, transforms.InterpolationMode('bilinear')),\n",
    "        transforms.CenterCrop(224),\n",
    "        transforms.ToTensor(),\n",
    "        transforms.Normalize(mean, std)\n",
    "    ]),\n",
    "}"
   ]
  },
  {
   "cell_type": "code",
   "execution_count": 4,
   "metadata": {},
   "outputs": [
    {
     "name": "stdout",
     "output_type": "stream",
     "text": [
      "['normal', 'rain']\n"
     ]
    }
   ],
   "source": [
    "data_dir = 'E:\\Datasets\\cor'\n",
    "data_folders = ['train', 'val']\n",
    "\n",
    "batch_size = 64\n",
    "image_datasets = {x: datasets.ImageFolder(os.path.join(data_dir, x),\n",
    "                                          data_transforms[x])\n",
    "                  for x in data_folders}\n",
    "dataloaders = {x: torch.utils.data.DataLoader(image_datasets[x], batch_size=batch_size,\n",
    "                                             shuffle=True, num_workers=0)\n",
    "              for x in data_folders}\n",
    "\n",
    "dataset_sizes = {x: len(image_datasets[x]) for x in data_folders}\n",
    "\n",
    "class_names = image_datasets['train'].classes\n",
    "print(class_names)"
   ]
  },
  {
   "cell_type": "code",
   "execution_count": 5,
   "metadata": {},
   "outputs": [],
   "source": [
    "working_folder = 'notebooks/vit'\n",
    "models_folder = 'models'\n",
    "from datetime import datetime\n",
    "\n",
    "curr_time = datetime.now()\n",
    "# curr_time = datetime(curr_time.year, curr_time.month, curr_time.day, curr_time.hour)\n",
    "curr_time = curr_time.strftime(\"%m-%d-%Y %H-%M-%S\")\n",
    "\n",
    "output_folder = os.path.join(working_folder, models_folder)\n",
    "output_folder = os.path.join(output_folder, curr_time)\n",
    "\n",
    "if not os.path.exists(output_folder): \n",
    "    os.makedirs(output_folder) "
   ]
  },
  {
   "cell_type": "code",
   "execution_count": 6,
   "metadata": {},
   "outputs": [
    {
     "name": "stdout",
     "output_type": "stream",
     "text": [
      "cuda:0\n"
     ]
    }
   ],
   "source": [
    "device = torch.device(\"cuda:0\" if torch.cuda.is_available() else \"cpu\")\n",
    "print(device)"
   ]
  },
  {
   "cell_type": "code",
   "execution_count": 7,
   "metadata": {},
   "outputs": [],
   "source": [
    "def train_model(model, criterion, optimizer, scheduler, output_folder, start_epoch=1, num_epochs=25, epoch_save_interval=2):\n",
    "    since = time.time()\n",
    "\n",
    "    best_model_wts = copy.deepcopy(model.state_dict())\n",
    "    best_acc = 0.0\n",
    "\n",
    "    log_path = f\"{output_folder}/log.txt\"\n",
    "    \n",
    "    if not os.path.exists(log_path): \n",
    "        log = open(log_path,'x')\n",
    "        log.close()\n",
    "    \n",
    "    for epoch in range(start_epoch, num_epochs+1):\n",
    "        epoch_info = 'Epoch {}/{}'.format(epoch, num_epochs)\n",
    "        \n",
    "        with open(log_path,'a') as log:\n",
    "            log.writelines('\\n'+epoch_info+'\\n')\n",
    "            log.writelines('-' * 10+'\\n')\n",
    "        \n",
    "        print(epoch_info)\n",
    "        print('-' * 10)\n",
    "        \n",
    "\n",
    "        # Each epoch has a training and validation phase\n",
    "        for phase in ['train', 'val']:\n",
    "            if phase == 'train':\n",
    "                model.train()  # Set model to training mode\n",
    "            else:\n",
    "                model.eval()   # Set model to evaluate mode\n",
    "\n",
    "            running_loss = 0.0\n",
    "            running_corrects = 0\n",
    "\n",
    "            # Iterate over data.\n",
    "            for inputs, labels in dataloaders[phase]:\n",
    "                inputs = inputs.to(device)\n",
    "                labels = labels.to(device)\n",
    "\n",
    "                # forward\n",
    "                # track history if only in train\n",
    "                with torch.set_grad_enabled(phase == 'train'):\n",
    "                    outputs = model(inputs)\n",
    "                    _, preds = torch.max(outputs, 1)\n",
    "                    loss = criterion(outputs, labels)\n",
    "\n",
    "                    # backward + optimize only if in training phase\n",
    "                    if phase == 'train':\n",
    "                        optimizer.zero_grad()\n",
    "                        loss.backward()\n",
    "                        optimizer.step()\n",
    "\n",
    "                # statistics\n",
    "                running_loss += loss.item() * inputs.size(0)\n",
    "                running_corrects += torch.sum(preds == labels.data)\n",
    "\n",
    "            if phase == 'train':\n",
    "                scheduler.step()\n",
    "\n",
    "            epoch_loss = running_loss / dataset_sizes[phase]\n",
    "            epoch_acc = running_corrects.double() / dataset_sizes[phase]\n",
    "\n",
    "            loss_acc_info = '{} Loss: {:.4f} Acc: {:.4f}'.format(phase, epoch_loss, epoch_acc)\n",
    "            with open(log_path,'a') as log:\n",
    "                log.writelines(loss_acc_info+'\\n')\n",
    "            print(loss_acc_info)\n",
    "            \n",
    "            if epoch % epoch_save_interval == 0:\n",
    "                torch.save(model.state_dict(), f'{output_folder}/epoch_{epoch}.pth')\n",
    "                \n",
    "            # deep copy the model\n",
    "            if phase == 'val' and epoch_acc > best_acc:\n",
    "                best_acc = epoch_acc\n",
    "                best_model_wts = copy.deepcopy(model.state_dict())\n",
    "        print()\n",
    "    \n",
    "    torch.save(model.state_dict(), f'{output_folder}/last.pth')\n",
    "    \n",
    "    time_elapsed = time.time() - since\n",
    "    \n",
    "    complete_text = 'Training complete in {:.0f}m {:.0f}s'.format(time_elapsed // 60, time_elapsed % 60)\n",
    "    print(complete_text)\n",
    "    best_acc_text = 'Best val Acc: {:4f}'.format(best_acc)\n",
    "    print(best_acc_text)\n",
    "    \n",
    "    with open(log_path,'a') as log:\n",
    "        log.writelines(complete_text+'\\n')\n",
    "        log.writelines(best_acc_text+'\\n')\n",
    "        \n",
    "    # load best model weights\n",
    "    model.load_state_dict(best_model_wts)\n",
    "    torch.save(model.state_dict(), f'{output_folder}/best.pth')\n",
    "    \n",
    "    return model"
   ]
  },
  {
   "cell_type": "code",
   "execution_count": 8,
   "metadata": {},
   "outputs": [],
   "source": [
    "continue_training = True"
   ]
  },
  {
   "cell_type": "code",
   "execution_count": 9,
   "metadata": {},
   "outputs": [
    {
     "name": "stderr",
     "output_type": "stream",
     "text": [
      "c:\\Users\\Adm\\anaconda3\\envs\\cv\\lib\\site-packages\\torchvision\\models\\_utils.py:208: UserWarning: The parameter 'pretrained' is deprecated since 0.13 and may be removed in the future, please use 'weights' instead.\n",
      "  warnings.warn(\n",
      "c:\\Users\\Adm\\anaconda3\\envs\\cv\\lib\\site-packages\\torchvision\\models\\_utils.py:223: UserWarning: Arguments other than a weight enum or `None` for 'weights' are deprecated since 0.13 and may be removed in the future. The current behavior is equivalent to passing `weights=ViT_B_16_Weights.IMAGENET1K_V1`. You can also use `weights=ViT_B_16_Weights.DEFAULT` to get the most up-to-date weights.\n",
      "  warnings.warn(msg)\n"
     ]
    },
    {
     "name": "stdout",
     "output_type": "stream",
     "text": [
      "Epoch 13/25\n",
      "----------\n",
      "train Loss: 0.0101 Acc: 0.9983\n",
      "val Loss: 0.3203 Acc: 0.8727\n",
      "\n",
      "Epoch 14/25\n",
      "----------\n",
      "train Loss: 0.0101 Acc: 0.9984\n",
      "val Loss: 0.3165 Acc: 0.8744\n",
      "\n",
      "Epoch 15/25\n",
      "----------\n",
      "train Loss: 0.0101 Acc: 0.9983\n",
      "val Loss: 0.3192 Acc: 0.8729\n",
      "\n",
      "Epoch 16/25\n",
      "----------\n",
      "train Loss: 0.0099 Acc: 0.9985\n",
      "val Loss: 0.3183 Acc: 0.8732\n",
      "\n",
      "Epoch 17/25\n",
      "----------\n",
      "train Loss: 0.0100 Acc: 0.9984\n",
      "val Loss: 0.3205 Acc: 0.8725\n",
      "\n",
      "Epoch 18/25\n",
      "----------\n",
      "train Loss: 0.0099 Acc: 0.9983\n",
      "val Loss: 0.3194 Acc: 0.8729\n",
      "\n",
      "Epoch 19/25\n",
      "----------\n",
      "train Loss: 0.0098 Acc: 0.9983\n",
      "val Loss: 0.3215 Acc: 0.8723\n",
      "\n",
      "Epoch 20/25\n",
      "----------\n",
      "train Loss: 0.0099 Acc: 0.9984\n",
      "val Loss: 0.3212 Acc: 0.8725\n",
      "\n",
      "Epoch 21/25\n",
      "----------\n",
      "train Loss: 0.0098 Acc: 0.9984\n",
      "val Loss: 0.3207 Acc: 0.8725\n",
      "\n",
      "Epoch 22/25\n",
      "----------\n",
      "train Loss: 0.0098 Acc: 0.9982\n",
      "val Loss: 0.3204 Acc: 0.8725\n",
      "\n",
      "Epoch 23/25\n",
      "----------\n"
     ]
    },
    {
     "ename": "KeyboardInterrupt",
     "evalue": "",
     "output_type": "error",
     "traceback": [
      "\u001b[1;31m---------------------------------------------------------------------------\u001b[0m",
      "\u001b[1;31mKeyboardInterrupt\u001b[0m                         Traceback (most recent call last)",
      "\u001b[1;32me:\\GitHub\\computervision\\notebooks\\vit\\visualtransformer_training.ipynb Cell 9\u001b[0m line \u001b[0;36m2\n\u001b[0;32m     <a href='vscode-notebook-cell:/e%3A/GitHub/computervision/notebooks/vit/visualtransformer_training.ipynb#X11sZmlsZQ%3D%3D?line=15'>16</a>\u001b[0m \u001b[39m# StepLR Decays the learning rate of each parameter group by gamma every step_size epochs\u001b[39;00m\n\u001b[0;32m     <a href='vscode-notebook-cell:/e%3A/GitHub/computervision/notebooks/vit/visualtransformer_training.ipynb#X11sZmlsZQ%3D%3D?line=16'>17</a>\u001b[0m \u001b[39m# Decay LR by a factor of 0.1 every 7 epochs\u001b[39;00m\n\u001b[0;32m     <a href='vscode-notebook-cell:/e%3A/GitHub/computervision/notebooks/vit/visualtransformer_training.ipynb#X11sZmlsZQ%3D%3D?line=17'>18</a>\u001b[0m \u001b[39m# Learning rate scheduling should be applied after optimizer’s update\u001b[39;00m\n\u001b[1;32m   (...)\u001b[0m\n\u001b[0;32m     <a href='vscode-notebook-cell:/e%3A/GitHub/computervision/notebooks/vit/visualtransformer_training.ipynb#X11sZmlsZQ%3D%3D?line=21'>22</a>\u001b[0m \u001b[39m#     validate(...)\u001b[39;00m\n\u001b[0;32m     <a href='vscode-notebook-cell:/e%3A/GitHub/computervision/notebooks/vit/visualtransformer_training.ipynb#X11sZmlsZQ%3D%3D?line=22'>23</a>\u001b[0m \u001b[39m#     scheduler.step()\u001b[39;00m\n\u001b[0;32m     <a href='vscode-notebook-cell:/e%3A/GitHub/computervision/notebooks/vit/visualtransformer_training.ipynb#X11sZmlsZQ%3D%3D?line=24'>25</a>\u001b[0m step_lr_scheduler \u001b[39m=\u001b[39m lr_scheduler\u001b[39m.\u001b[39mStepLR(optimizer, step_size\u001b[39m=\u001b[39m\u001b[39m7\u001b[39m, gamma\u001b[39m=\u001b[39m\u001b[39m0.1\u001b[39m)\n\u001b[1;32m---> <a href='vscode-notebook-cell:/e%3A/GitHub/computervision/notebooks/vit/visualtransformer_training.ipynb#X11sZmlsZQ%3D%3D?line=26'>27</a>\u001b[0m model \u001b[39m=\u001b[39m train_model(model, criterion, optimizer, step_lr_scheduler, output_folder, start_epoch\u001b[39m=\u001b[39;49m\u001b[39m13\u001b[39;49m, num_epochs\u001b[39m=\u001b[39;49m\u001b[39m25\u001b[39;49m)\n",
      "\u001b[1;32me:\\GitHub\\computervision\\notebooks\\vit\\visualtransformer_training.ipynb Cell 9\u001b[0m line \u001b[0;36m3\n\u001b[0;32m     <a href='vscode-notebook-cell:/e%3A/GitHub/computervision/notebooks/vit/visualtransformer_training.ipynb#X11sZmlsZQ%3D%3D?line=34'>35</a>\u001b[0m \u001b[39mfor\u001b[39;00m inputs, labels \u001b[39min\u001b[39;00m dataloaders[phase]:\n\u001b[0;32m     <a href='vscode-notebook-cell:/e%3A/GitHub/computervision/notebooks/vit/visualtransformer_training.ipynb#X11sZmlsZQ%3D%3D?line=35'>36</a>\u001b[0m     inputs \u001b[39m=\u001b[39m inputs\u001b[39m.\u001b[39mto(device)\n\u001b[1;32m---> <a href='vscode-notebook-cell:/e%3A/GitHub/computervision/notebooks/vit/visualtransformer_training.ipynb#X11sZmlsZQ%3D%3D?line=36'>37</a>\u001b[0m     labels \u001b[39m=\u001b[39m labels\u001b[39m.\u001b[39;49mto(device)\n\u001b[0;32m     <a href='vscode-notebook-cell:/e%3A/GitHub/computervision/notebooks/vit/visualtransformer_training.ipynb#X11sZmlsZQ%3D%3D?line=38'>39</a>\u001b[0m     \u001b[39m# forward\u001b[39;00m\n\u001b[0;32m     <a href='vscode-notebook-cell:/e%3A/GitHub/computervision/notebooks/vit/visualtransformer_training.ipynb#X11sZmlsZQ%3D%3D?line=39'>40</a>\u001b[0m     \u001b[39m# track history if only in train\u001b[39;00m\n\u001b[0;32m     <a href='vscode-notebook-cell:/e%3A/GitHub/computervision/notebooks/vit/visualtransformer_training.ipynb#X11sZmlsZQ%3D%3D?line=40'>41</a>\u001b[0m     \u001b[39mwith\u001b[39;00m torch\u001b[39m.\u001b[39mset_grad_enabled(phase \u001b[39m==\u001b[39m \u001b[39m'\u001b[39m\u001b[39mtrain\u001b[39m\u001b[39m'\u001b[39m):\n",
      "\u001b[1;31mKeyboardInterrupt\u001b[0m: "
     ]
    }
   ],
   "source": [
    "model = models.vit_b_16(pretrained=True)\n",
    "# model = models.vit_b_16(weights=ViT_B_16_Weights.DEFAULT)\n",
    "for param in model.parameters(): # Turning parameters not trainable\n",
    "    param.requires_grad = False\n",
    "model.heads = nn.Linear(768, 2) # A newly defined layer is created with requires_grad=True by default\n",
    "    \n",
    "if continue_training:\n",
    "    model.load_state_dict(torch.load('notebooks/vit/models/10-27-2023 10-39-19/epoch_12.pth'))\n",
    "    \n",
    "model = model.to(device)\n",
    "\n",
    "criterion = nn.CrossEntropyLoss()\n",
    "\n",
    "# Only the fully connected layer is being optimized\n",
    "optimizer = optim.SGD(model.heads.parameters(), lr=0.001)\n",
    "# StepLR Decays the learning rate of each parameter group by gamma every step_size epochs\n",
    "# Decay LR by a factor of 0.1 every 7 epochs\n",
    "# Learning rate scheduling should be applied after optimizer’s update\n",
    "# e.g., you should write your code this way:\n",
    "# for epoch in range(100):\n",
    "#     train(...)\n",
    "#     validate(...)\n",
    "#     scheduler.step()\n",
    "\n",
    "step_lr_scheduler = lr_scheduler.StepLR(optimizer, step_size=7, gamma=0.1)\n",
    "\n",
    "model = train_model(model, criterion, optimizer, step_lr_scheduler, output_folder, start_epoch=13, num_epochs=25)"
   ]
  }
 ],
 "metadata": {
  "kernelspec": {
   "display_name": "cv",
   "language": "python",
   "name": "python3"
  },
  "language_info": {
   "codemirror_mode": {
    "name": "ipython",
    "version": 3
   },
   "file_extension": ".py",
   "mimetype": "text/x-python",
   "name": "python",
   "nbconvert_exporter": "python",
   "pygments_lexer": "ipython3",
   "version": "3.10.11"
  }
 },
 "nbformat": 4,
 "nbformat_minor": 2
}

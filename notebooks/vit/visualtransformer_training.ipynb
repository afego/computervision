{
 "cells": [
  {
   "cell_type": "code",
   "execution_count": 1,
   "metadata": {},
   "outputs": [
    {
     "name": "stdout",
     "output_type": "stream",
     "text": [
      "e:\\GitHub\\computervision\n"
     ]
    }
   ],
   "source": [
    "cd ../.."
   ]
  },
  {
   "cell_type": "code",
   "execution_count": 2,
   "metadata": {},
   "outputs": [],
   "source": [
    "import torch\n",
    "import os\n",
    "\n",
    "import numpy as np\n",
    "import torch.nn as nn\n",
    "import torch.optim as optim\n",
    "\n",
    "from torch.optim import lr_scheduler\n",
    "from torchvision import models, transforms\n",
    "from modules.training_util import PytorchDataset, PytorchTraining, EarlyStopping"
   ]
  },
  {
   "cell_type": "code",
   "execution_count": 3,
   "metadata": {},
   "outputs": [],
   "source": [
    "# Variables for continuing previous training\n",
    "CONTINUE_TRAINING = False\n",
    "MODEL_WEIGHTS_PATH = 'notebooks/efficientnet/models//'\n",
    "MODEL_LAST_EPOCH = '.pth'\n",
    "\n",
    "# CONFIG VARIABLES\n",
    "DATA_DIR = 'E:/Datasets/cor-splits/sgkf-8-1-1-2000'\n",
    "START_EPOCH = 1 # Change it if you're continuing an existing run\n",
    "N_EPOCHS = 50\n",
    "## Learning Rate Scheduler\n",
    "LR = 0.001  # When continuing a existing run, update it to the last epoch LR value\n",
    "LR_EPOCH_SCHEDULE = 10  # Number of epochs before altering LR\n",
    "LR_GAMMA = 0.1\n",
    "SAVE_INTERVAL = 5 # How many epochs between each backup\n",
    "## Early Stopping\n",
    "PATIENCE = 10\n",
    "MIN_DELTA = 0"
   ]
  },
  {
   "cell_type": "code",
   "execution_count": 4,
   "metadata": {},
   "outputs": [],
   "source": [
    "working_folder = 'notebooks/vit'\n",
    "models_folder = 'models'\n",
    "from datetime import datetime\n",
    "\n",
    "curr_time = datetime.now()\n",
    "# curr_time = datetime(curr_time.year, curr_time.month, curr_time.day, curr_time.hour)\n",
    "curr_time = curr_time.strftime(\"%Y-%m-%d %H-%M-%S\")\n",
    "\n",
    "output_folder = os.path.join(working_folder, models_folder)\n",
    "output_folder = os.path.join(output_folder, curr_time)"
   ]
  },
  {
   "cell_type": "code",
   "execution_count": 5,
   "metadata": {},
   "outputs": [],
   "source": [
    "# vit_b_16\n",
    "mean = np.array([0.485, 0.456, 0.406])\n",
    "std = np.array([0.229, 0.224, 0.225])\n",
    "\n",
    "data_transforms = {\n",
    "    'train': transforms.Compose([\n",
    "        transforms.RandomHorizontalFlip(),\n",
    "        transforms.Resize(256, transforms.InterpolationMode('bilinear')),\n",
    "        transforms.CenterCrop(224),\n",
    "        transforms.ToTensor(),\n",
    "        transforms.Normalize(mean, std)\n",
    "    ]),\n",
    "    'val': transforms.Compose([\n",
    "        transforms.Resize(256, transforms.InterpolationMode('bilinear')),\n",
    "        transforms.CenterCrop(224),\n",
    "        transforms.ToTensor(),\n",
    "        transforms.Normalize(mean, std)\n",
    "    ]),\n",
    "}"
   ]
  },
  {
   "cell_type": "code",
   "execution_count": 6,
   "metadata": {},
   "outputs": [],
   "source": [
    "model = models.vit_b_16(weights=models.ViT_B_16_Weights.DEFAULT)\n",
    "\n",
    "for param in model.parameters(): # Turning parameters not trainable\n",
    "    param.requires_grad = True\n",
    "\n",
    "# A newly defined layer is created with requires_grad=True by default\n",
    "model.heads = nn.Sequential(\n",
    "    nn.Linear(in_features=768, out_features=2)\n",
    "    )\n",
    "\n",
    "if CONTINUE_TRAINING:\n",
    "    output_folder = MODEL_WEIGHTS_PATH\n",
    "    model.load_state_dict(torch.load(output_folder+MODEL_LAST_EPOCH))\n",
    "else:\n",
    "    if not os.path.exists(output_folder): \n",
    "        os.makedirs(output_folder)\n",
    "\n",
    "device = torch.device(\"cuda:0\" if torch.cuda.is_available() else \"cpu\")\n",
    "       \n",
    "model = model.to(device)\n",
    "\n",
    "criterion = nn.CrossEntropyLoss()\n",
    "\n",
    "# optimizer = optim.SGD(model.heads.parameters(), lr=LR)\n",
    "optimizer = optim.SGD(model.parameters(), lr=LR)\n",
    "# optimizer = optim.Adam(model.parameters(), lr=LR)\n",
    "\n",
    "# Learning rate scheduling should be applied after optimizer’s update\n",
    "# e.g., you should write your code this way:\n",
    "# for epoch in range(100):\n",
    "#     train(...)\n",
    "#     validate(...)\n",
    "#     scheduler.step()\n",
    "\n",
    "step_lr_scheduler = lr_scheduler.StepLR(optimizer, step_size=LR_EPOCH_SCHEDULE, gamma=LR_GAMMA)\n",
    "es = EarlyStopping(patience=PATIENCE, delta=MIN_DELTA)"
   ]
  },
  {
   "cell_type": "code",
   "execution_count": 7,
   "metadata": {},
   "outputs": [
    {
     "name": "stdout",
     "output_type": "stream",
     "text": [
      "Epoch 1/50\n",
      "----------\n",
      "train Loss: 0.6797 Acc: 0.5750\n",
      "val Loss: 0.6008 Acc: 0.7042\n",
      "Epoch duration: 6 m 8s\n",
      "Learning Rate = 0.001\n",
      "Lower loss found, resetting patience counter\n",
      "\n",
      "Epoch 2/50\n",
      "----------\n",
      "train Loss: 0.5372 Acc: 0.7801\n",
      "val Loss: 0.5275 Acc: 0.7723\n",
      "Epoch duration: 11 m 21s\n",
      "Learning Rate = 0.001\n",
      "Lower loss found, resetting patience counter\n",
      "\n",
      "Epoch 3/50\n",
      "----------\n",
      "train Loss: 0.4444 Acc: 0.8580\n",
      "val Loss: 0.4763 Acc: 0.7746\n",
      "Epoch duration: 7 m 57s\n",
      "Learning Rate = 0.001\n",
      "Loss didnt decrease. Increasing patience counter\n",
      "\n",
      "Epoch 4/50\n",
      "----------\n",
      "train Loss: 0.3701 Acc: 0.8936\n",
      "val Loss: 0.4456 Acc: 0.7840\n",
      "Epoch duration: 11 m 17s\n",
      "Learning Rate = 0.001\n",
      "Loss didnt decrease. Increasing patience counter\n",
      "\n",
      "Epoch 5/50\n",
      "----------\n",
      "train Loss: 0.3081 Acc: 0.9209\n",
      "val Loss: 0.4215 Acc: 0.7840\n",
      "Epoch duration: 11 m 6s\n",
      "Learning Rate = 0.001\n",
      "Loss didnt decrease. Increasing patience counter\n",
      "\n",
      "Epoch 6/50\n",
      "----------\n"
     ]
    },
    {
     "ename": "KeyboardInterrupt",
     "evalue": "",
     "output_type": "error",
     "traceback": [
      "\u001b[1;31m---------------------------------------------------------------------------\u001b[0m",
      "\u001b[1;31mKeyboardInterrupt\u001b[0m                         Traceback (most recent call last)",
      "Cell \u001b[1;32mIn[7], line 4\u001b[0m\n\u001b[0;32m      1\u001b[0m dataset \u001b[38;5;241m=\u001b[39m PytorchDataset(DATA_DIR, data_transforms)\n\u001b[0;32m      2\u001b[0m trainer \u001b[38;5;241m=\u001b[39m PytorchTraining(device, dataset, output_folder)\n\u001b[1;32m----> 4\u001b[0m model \u001b[38;5;241m=\u001b[39m \u001b[43mtrainer\u001b[49m\u001b[38;5;241;43m.\u001b[39;49m\u001b[43mtrain_pytorch_model\u001b[49m\u001b[43m(\u001b[49m\u001b[43mmodel\u001b[49m\u001b[43m,\u001b[49m\u001b[43m \u001b[49m\u001b[43mcriterion\u001b[49m\u001b[43m,\u001b[49m\u001b[43m \u001b[49m\u001b[43moptimizer\u001b[49m\u001b[43m,\u001b[49m\u001b[43m \u001b[49m\u001b[43mstep_lr_scheduler\u001b[49m\u001b[43m,\u001b[49m\u001b[43m \u001b[49m\u001b[43mes\u001b[49m\u001b[43m,\u001b[49m\u001b[43m \u001b[49m\u001b[43mSTART_EPOCH\u001b[49m\u001b[43m,\u001b[49m\u001b[43m \u001b[49m\u001b[43mN_EPOCHS\u001b[49m\u001b[43m,\u001b[49m\u001b[43m \u001b[49m\u001b[43mSAVE_INTERVAL\u001b[49m\u001b[43m)\u001b[49m\n",
      "File \u001b[1;32me:\\GitHub\\computervision\\modules\\training_util.py:155\u001b[0m, in \u001b[0;36mPytorchTraining.train_pytorch_model\u001b[1;34m(self, model, criterion, optimizer, scheduler, early_stopper, start_epoch, num_epochs, epoch_save_interval)\u001b[0m\n\u001b[0;32m    152\u001b[0m             optimizer\u001b[38;5;241m.\u001b[39mstep()\n\u001b[0;32m    154\u001b[0m     \u001b[38;5;66;03m# statistics\u001b[39;00m\n\u001b[1;32m--> 155\u001b[0m     running_loss \u001b[38;5;241m+\u001b[39m\u001b[38;5;241m=\u001b[39m loss\u001b[38;5;241m.\u001b[39mitem() \u001b[38;5;241m*\u001b[39m inputs\u001b[38;5;241m.\u001b[39msize(\u001b[38;5;241m0\u001b[39m)\n\u001b[0;32m    156\u001b[0m     running_corrects \u001b[38;5;241m+\u001b[39m\u001b[38;5;241m=\u001b[39m torch\u001b[38;5;241m.\u001b[39msum(preds \u001b[38;5;241m==\u001b[39m labels\u001b[38;5;241m.\u001b[39mdata)\n\u001b[0;32m    158\u001b[0m \u001b[38;5;28;01mif\u001b[39;00m phase \u001b[38;5;241m==\u001b[39m \u001b[38;5;124m'\u001b[39m\u001b[38;5;124mtrain\u001b[39m\u001b[38;5;124m'\u001b[39m:\n",
      "\u001b[1;31mKeyboardInterrupt\u001b[0m: "
     ]
    }
   ],
   "source": [
    "dataset = PytorchDataset(DATA_DIR, data_transforms)\n",
    "trainer = PytorchTraining(device, dataset, output_folder)\n",
    "\n",
    "model = trainer.train_pytorch_model(model, criterion, optimizer, step_lr_scheduler, es, START_EPOCH, N_EPOCHS, SAVE_INTERVAL)"
   ]
  }
 ],
 "metadata": {
  "kernelspec": {
   "display_name": "cv",
   "language": "python",
   "name": "python3"
  },
  "language_info": {
   "codemirror_mode": {
    "name": "ipython",
    "version": 3
   },
   "file_extension": ".py",
   "mimetype": "text/x-python",
   "name": "python",
   "nbconvert_exporter": "python",
   "pygments_lexer": "ipython3",
   "version": "3.10.11"
  }
 },
 "nbformat": 4,
 "nbformat_minor": 2
}

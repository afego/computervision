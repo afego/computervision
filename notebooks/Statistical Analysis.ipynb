{
 "cells": [
  {
   "cell_type": "code",
   "execution_count": 1,
   "metadata": {},
   "outputs": [
    {
     "name": "stdout",
     "output_type": "stream",
     "text": [
      "E:\\GitHub\\computervision\n"
     ]
    }
   ],
   "source": [
    "cd E:/GitHub/computervision"
   ]
  },
  {
   "cell_type": "code",
   "execution_count": 2,
   "metadata": {},
   "outputs": [],
   "source": [
    "import numpy as np\n",
    "import pandas as pd"
   ]
  },
  {
   "cell_type": "code",
   "execution_count": 5,
   "metadata": {},
   "outputs": [],
   "source": [
    "model = 'vit'\n",
    "model_date = '2024-03-28 07-16-58'\n",
    "\n",
    "stats_dir = f'notebooks/{model}/models/{model_date}/stats'"
   ]
  },
  {
   "cell_type": "code",
   "execution_count": 6,
   "metadata": {},
   "outputs": [
    {
     "name": "stdout",
     "output_type": "stream",
     "text": [
      "<class 'pandas.core.frame.DataFrame'>\n",
      "RangeIndex: 286 entries, 0 to 285\n",
      "Data columns (total 6 columns):\n",
      " #   Column       Non-Null Count  Dtype \n",
      "---  ------       --------------  ----- \n",
      " 0   epoch        286 non-null    int64 \n",
      " 1   code         286 non-null    object\n",
      " 2   cls_0_corr   286 non-null    int64 \n",
      " 3   cls_0_total  286 non-null    int64 \n",
      " 4   cls_1_corr   286 non-null    int64 \n",
      " 5   cls_1_total  286 non-null    int64 \n",
      "dtypes: int64(5), object(1)\n",
      "memory usage: 13.5+ KB\n"
     ]
    },
    {
     "data": {
      "text/html": [
       "<div>\n",
       "<style scoped>\n",
       "    .dataframe tbody tr th:only-of-type {\n",
       "        vertical-align: middle;\n",
       "    }\n",
       "\n",
       "    .dataframe tbody tr th {\n",
       "        vertical-align: top;\n",
       "    }\n",
       "\n",
       "    .dataframe thead th {\n",
       "        text-align: right;\n",
       "    }\n",
       "</style>\n",
       "<table border=\"1\" class=\"dataframe\">\n",
       "  <thead>\n",
       "    <tr style=\"text-align: right;\">\n",
       "      <th></th>\n",
       "      <th>epoch</th>\n",
       "      <th>code</th>\n",
       "      <th>cls_0_corr</th>\n",
       "      <th>cls_0_total</th>\n",
       "      <th>cls_1_corr</th>\n",
       "      <th>cls_1_total</th>\n",
       "    </tr>\n",
       "  </thead>\n",
       "  <tbody>\n",
       "    <tr>\n",
       "      <th>0</th>\n",
       "      <td>1</td>\n",
       "      <td>CODE1404</td>\n",
       "      <td>25</td>\n",
       "      <td>28</td>\n",
       "      <td>27</td>\n",
       "      <td>32</td>\n",
       "    </tr>\n",
       "    <tr>\n",
       "      <th>1</th>\n",
       "      <td>1</td>\n",
       "      <td>CODE1644</td>\n",
       "      <td>21</td>\n",
       "      <td>26</td>\n",
       "      <td>25</td>\n",
       "      <td>34</td>\n",
       "    </tr>\n",
       "    <tr>\n",
       "      <th>2</th>\n",
       "      <td>1</td>\n",
       "      <td>CODE1525</td>\n",
       "      <td>29</td>\n",
       "      <td>43</td>\n",
       "      <td>16</td>\n",
       "      <td>17</td>\n",
       "    </tr>\n",
       "    <tr>\n",
       "      <th>3</th>\n",
       "      <td>1</td>\n",
       "      <td>CODE1881</td>\n",
       "      <td>24</td>\n",
       "      <td>33</td>\n",
       "      <td>21</td>\n",
       "      <td>27</td>\n",
       "    </tr>\n",
       "    <tr>\n",
       "      <th>4</th>\n",
       "      <td>1</td>\n",
       "      <td>CODE365</td>\n",
       "      <td>8</td>\n",
       "      <td>10</td>\n",
       "      <td>28</td>\n",
       "      <td>50</td>\n",
       "    </tr>\n",
       "  </tbody>\n",
       "</table>\n",
       "</div>"
      ],
      "text/plain": [
       "   epoch      code  cls_0_corr  cls_0_total  cls_1_corr  cls_1_total\n",
       "0      1  CODE1404          25           28          27           32\n",
       "1      1  CODE1644          21           26          25           34\n",
       "2      1  CODE1525          29           43          16           17\n",
       "3      1  CODE1881          24           33          21           27\n",
       "4      1   CODE365           8           10          28           50"
      ]
     },
     "execution_count": 6,
     "metadata": {},
     "output_type": "execute_result"
    }
   ],
   "source": [
    "df = pd.read_csv(stats_dir+'/cam_acc.csv')\n",
    "df.info()\n",
    "df.head()"
   ]
  },
  {
   "cell_type": "code",
   "execution_count": 7,
   "metadata": {},
   "outputs": [
    {
     "data": {
      "text/plain": [
       "22"
      ]
     },
     "execution_count": 7,
     "metadata": {},
     "output_type": "execute_result"
    }
   ],
   "source": [
    "last_epoch = df.epoch.max()\n",
    "idx = df[df.epoch == last_epoch].index\n",
    "last_epoch"
   ]
  },
  {
   "cell_type": "code",
   "execution_count": 8,
   "metadata": {},
   "outputs": [
    {
     "name": "stdout",
     "output_type": "stream",
     "text": [
      "<class 'pandas.core.frame.DataFrame'>\n",
      "Index: 13 entries, 273 to 285\n",
      "Data columns (total 6 columns):\n",
      " #   Column       Non-Null Count  Dtype \n",
      "---  ------       --------------  ----- \n",
      " 0   epoch        13 non-null     int64 \n",
      " 1   code         13 non-null     object\n",
      " 2   cls_0_corr   13 non-null     int64 \n",
      " 3   cls_0_total  13 non-null     int64 \n",
      " 4   cls_1_corr   13 non-null     int64 \n",
      " 5   cls_1_total  13 non-null     int64 \n",
      "dtypes: int64(5), object(1)\n",
      "memory usage: 728.0+ bytes\n"
     ]
    }
   ],
   "source": [
    "df = df[df.epoch == last_epoch]\n",
    "df.info()"
   ]
  },
  {
   "cell_type": "code",
   "execution_count": 9,
   "metadata": {},
   "outputs": [],
   "source": [
    "tp = df.cls_0_corr.sum()\n",
    "tn = df.cls_1_corr.sum()\n",
    "fn = df.cls_0_total.sum() - tp\n",
    "fp = df.cls_1_total.sum() - tn"
   ]
  },
  {
   "cell_type": "code",
   "execution_count": 10,
   "metadata": {},
   "outputs": [],
   "source": [
    "epoch = last_epoch\n",
    "accuracy = (tp+tn)/(tp+tn+fn+fp)\n",
    "precision = (tp)/(tp+fp)\n",
    "recall = (tp)/(tp+fn)\n",
    "recall_neg = (tn)/(tn+fp)"
   ]
  },
  {
   "cell_type": "code",
   "execution_count": 11,
   "metadata": {},
   "outputs": [
    {
     "name": "stdout",
     "output_type": "stream",
     "text": [
      "Epoch 22 Confusion matrix\n",
      "270  30\n",
      "120  360\n"
     ]
    }
   ],
   "source": [
    "print(f\"Epoch {epoch} Confusion matrix\")\n",
    "print(f\"{tp}  {fn}\\n{fp}  {tn}\")"
   ]
  },
  {
   "cell_type": "code",
   "execution_count": 12,
   "metadata": {},
   "outputs": [
    {
     "name": "stdout",
     "output_type": "stream",
     "text": [
      "Epoch 22 metrics\n",
      "Accuracy   = 0.8076923076923077\n",
      "Precision  = 0.6923076923076923\n",
      "Recall     = 0.9\n",
      "Recall Neg = 0.75\n"
     ]
    }
   ],
   "source": [
    "print(f\"Epoch {epoch} metrics\")\n",
    "print(f\"Accuracy   = {accuracy}\\nPrecision  = {precision}\\nRecall     = {recall}\\nRecall Neg = {recall_neg}\")"
   ]
  },
  {
   "cell_type": "code",
   "execution_count": 13,
   "metadata": {},
   "outputs": [],
   "source": [
    "df['FN'] = df['cls_0_total'] - df['cls_0_corr']\n",
    "df['FP'] = df['cls_1_total'] - df['cls_1_corr']\n",
    "df['ACC'] = (df['cls_0_corr']+df['cls_1_corr'])/(df['cls_0_corr']+df['cls_1_corr']+df['FP']+df['FN'])"
   ]
  },
  {
   "cell_type": "code",
   "execution_count": 15,
   "metadata": {},
   "outputs": [
    {
     "data": {
      "text/html": [
       "<div>\n",
       "<style scoped>\n",
       "    .dataframe tbody tr th:only-of-type {\n",
       "        vertical-align: middle;\n",
       "    }\n",
       "\n",
       "    .dataframe tbody tr th {\n",
       "        vertical-align: top;\n",
       "    }\n",
       "\n",
       "    .dataframe thead th {\n",
       "        text-align: right;\n",
       "    }\n",
       "</style>\n",
       "<table border=\"1\" class=\"dataframe\">\n",
       "  <thead>\n",
       "    <tr style=\"text-align: right;\">\n",
       "      <th></th>\n",
       "      <th>epoch</th>\n",
       "      <th>code</th>\n",
       "      <th>cls_0_corr</th>\n",
       "      <th>cls_0_total</th>\n",
       "      <th>cls_1_corr</th>\n",
       "      <th>cls_1_total</th>\n",
       "      <th>FN</th>\n",
       "      <th>FP</th>\n",
       "      <th>ACC</th>\n",
       "    </tr>\n",
       "  </thead>\n",
       "  <tbody>\n",
       "    <tr>\n",
       "      <th>284</th>\n",
       "      <td>22</td>\n",
       "      <td>CODE1405</td>\n",
       "      <td>8</td>\n",
       "      <td>10</td>\n",
       "      <td>28</td>\n",
       "      <td>50</td>\n",
       "      <td>2</td>\n",
       "      <td>22</td>\n",
       "      <td>0.600000</td>\n",
       "    </tr>\n",
       "    <tr>\n",
       "      <th>273</th>\n",
       "      <td>22</td>\n",
       "      <td>CODE1404</td>\n",
       "      <td>10</td>\n",
       "      <td>12</td>\n",
       "      <td>28</td>\n",
       "      <td>48</td>\n",
       "      <td>2</td>\n",
       "      <td>20</td>\n",
       "      <td>0.633333</td>\n",
       "    </tr>\n",
       "    <tr>\n",
       "      <th>275</th>\n",
       "      <td>22</td>\n",
       "      <td>CODE1525</td>\n",
       "      <td>12</td>\n",
       "      <td>14</td>\n",
       "      <td>28</td>\n",
       "      <td>46</td>\n",
       "      <td>2</td>\n",
       "      <td>18</td>\n",
       "      <td>0.666667</td>\n",
       "    </tr>\n",
       "    <tr>\n",
       "      <th>277</th>\n",
       "      <td>22</td>\n",
       "      <td>CODE365</td>\n",
       "      <td>15</td>\n",
       "      <td>20</td>\n",
       "      <td>25</td>\n",
       "      <td>40</td>\n",
       "      <td>5</td>\n",
       "      <td>15</td>\n",
       "      <td>0.666667</td>\n",
       "    </tr>\n",
       "    <tr>\n",
       "      <th>276</th>\n",
       "      <td>22</td>\n",
       "      <td>CODE1881</td>\n",
       "      <td>20</td>\n",
       "      <td>23</td>\n",
       "      <td>27</td>\n",
       "      <td>37</td>\n",
       "      <td>3</td>\n",
       "      <td>10</td>\n",
       "      <td>0.783333</td>\n",
       "    </tr>\n",
       "    <tr>\n",
       "      <th>285</th>\n",
       "      <td>22</td>\n",
       "      <td>CODE1649</td>\n",
       "      <td>18</td>\n",
       "      <td>18</td>\n",
       "      <td>30</td>\n",
       "      <td>42</td>\n",
       "      <td>0</td>\n",
       "      <td>12</td>\n",
       "      <td>0.800000</td>\n",
       "    </tr>\n",
       "    <tr>\n",
       "      <th>280</th>\n",
       "      <td>22</td>\n",
       "      <td>CODE1635</td>\n",
       "      <td>21</td>\n",
       "      <td>23</td>\n",
       "      <td>28</td>\n",
       "      <td>37</td>\n",
       "      <td>2</td>\n",
       "      <td>9</td>\n",
       "      <td>0.816667</td>\n",
       "    </tr>\n",
       "    <tr>\n",
       "      <th>279</th>\n",
       "      <td>22</td>\n",
       "      <td>CODE310</td>\n",
       "      <td>28</td>\n",
       "      <td>35</td>\n",
       "      <td>23</td>\n",
       "      <td>25</td>\n",
       "      <td>7</td>\n",
       "      <td>2</td>\n",
       "      <td>0.850000</td>\n",
       "    </tr>\n",
       "    <tr>\n",
       "      <th>282</th>\n",
       "      <td>22</td>\n",
       "      <td>CODE1403</td>\n",
       "      <td>27</td>\n",
       "      <td>31</td>\n",
       "      <td>26</td>\n",
       "      <td>29</td>\n",
       "      <td>4</td>\n",
       "      <td>3</td>\n",
       "      <td>0.883333</td>\n",
       "    </tr>\n",
       "    <tr>\n",
       "      <th>274</th>\n",
       "      <td>22</td>\n",
       "      <td>CODE1644</td>\n",
       "      <td>24</td>\n",
       "      <td>24</td>\n",
       "      <td>30</td>\n",
       "      <td>36</td>\n",
       "      <td>0</td>\n",
       "      <td>6</td>\n",
       "      <td>0.900000</td>\n",
       "    </tr>\n",
       "    <tr>\n",
       "      <th>281</th>\n",
       "      <td>22</td>\n",
       "      <td>CODE1461</td>\n",
       "      <td>27</td>\n",
       "      <td>28</td>\n",
       "      <td>29</td>\n",
       "      <td>32</td>\n",
       "      <td>1</td>\n",
       "      <td>3</td>\n",
       "      <td>0.933333</td>\n",
       "    </tr>\n",
       "    <tr>\n",
       "      <th>278</th>\n",
       "      <td>22</td>\n",
       "      <td>CODE1648</td>\n",
       "      <td>30</td>\n",
       "      <td>31</td>\n",
       "      <td>29</td>\n",
       "      <td>29</td>\n",
       "      <td>1</td>\n",
       "      <td>0</td>\n",
       "      <td>0.983333</td>\n",
       "    </tr>\n",
       "    <tr>\n",
       "      <th>283</th>\n",
       "      <td>22</td>\n",
       "      <td>CODE1138</td>\n",
       "      <td>30</td>\n",
       "      <td>31</td>\n",
       "      <td>29</td>\n",
       "      <td>29</td>\n",
       "      <td>1</td>\n",
       "      <td>0</td>\n",
       "      <td>0.983333</td>\n",
       "    </tr>\n",
       "  </tbody>\n",
       "</table>\n",
       "</div>"
      ],
      "text/plain": [
       "     epoch      code  cls_0_corr  cls_0_total  cls_1_corr  cls_1_total  FN  \\\n",
       "284     22  CODE1405           8           10          28           50   2   \n",
       "273     22  CODE1404          10           12          28           48   2   \n",
       "275     22  CODE1525          12           14          28           46   2   \n",
       "277     22   CODE365          15           20          25           40   5   \n",
       "276     22  CODE1881          20           23          27           37   3   \n",
       "285     22  CODE1649          18           18          30           42   0   \n",
       "280     22  CODE1635          21           23          28           37   2   \n",
       "279     22   CODE310          28           35          23           25   7   \n",
       "282     22  CODE1403          27           31          26           29   4   \n",
       "274     22  CODE1644          24           24          30           36   0   \n",
       "281     22  CODE1461          27           28          29           32   1   \n",
       "278     22  CODE1648          30           31          29           29   1   \n",
       "283     22  CODE1138          30           31          29           29   1   \n",
       "\n",
       "     FP       ACC  \n",
       "284  22  0.600000  \n",
       "273  20  0.633333  \n",
       "275  18  0.666667  \n",
       "277  15  0.666667  \n",
       "276  10  0.783333  \n",
       "285  12  0.800000  \n",
       "280   9  0.816667  \n",
       "279   2  0.850000  \n",
       "282   3  0.883333  \n",
       "274   6  0.900000  \n",
       "281   3  0.933333  \n",
       "278   0  0.983333  \n",
       "283   0  0.983333  "
      ]
     },
     "execution_count": 15,
     "metadata": {},
     "output_type": "execute_result"
    }
   ],
   "source": [
    "df.sort_values(['ACC'])"
   ]
  }
 ],
 "metadata": {
  "kernelspec": {
   "display_name": "computervision",
   "language": "python",
   "name": "python3"
  },
  "language_info": {
   "codemirror_mode": {
    "name": "ipython",
    "version": 3
   },
   "file_extension": ".py",
   "mimetype": "text/x-python",
   "name": "python",
   "nbconvert_exporter": "python",
   "pygments_lexer": "ipython3",
   "version": "3.12.1"
  }
 },
 "nbformat": 4,
 "nbformat_minor": 2
}

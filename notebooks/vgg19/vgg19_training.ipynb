{
 "cells": [
  {
   "cell_type": "code",
   "execution_count": 1,
   "metadata": {},
   "outputs": [
    {
     "name": "stdout",
     "output_type": "stream",
     "text": [
      "e:\\GitHub\\computervision\n"
     ]
    }
   ],
   "source": [
    "cd ../.."
   ]
  },
  {
   "cell_type": "code",
   "execution_count": 2,
   "metadata": {},
   "outputs": [],
   "source": [
    "import os\n",
    "import torch\n",
    "\n",
    "import torch.nn as nn\n",
    "import torch.optim as optim\n",
    "\n",
    "from modules.training_util import PytorchDataset, PytorchTraining, EarlyStopping\n",
    "from modules.models_util import VGG19"
   ]
  },
  {
   "cell_type": "code",
   "execution_count": 3,
   "metadata": {},
   "outputs": [],
   "source": [
    "# Variables for continuing previous training\n",
    "CONTINUE_TRAINING = False\n",
    "MODEL_WEIGHTS_PATH = 'notebooks/vgg19/models//'\n",
    "\n",
    "# CONFIG VARIABLES\n",
    "DATA_DIR = 'E:/Datasets/cor-splits/sgkf-8-1-1-2000'\n",
    "START_EPOCH = 1 # Change it if you're continuing an existing run\n",
    "N_EPOCHS = 50\n",
    "## Learning Rate Scheduler\n",
    "LR = 0.001  # When continuing a existing run, update it to the last epoch LR value\n",
    "LR_EPOCH_SCHEDULE = 10  # Number of epochs before altering LR\n",
    "LR_GAMMA = 0.1\n",
    "SAVE_INTERVAL = 5 # How many epochs between each backup\n",
    "## Early Stopping\n",
    "PATIENCE = 10\n",
    "MIN_DELTA = 0"
   ]
  },
  {
   "cell_type": "code",
   "execution_count": 4,
   "metadata": {},
   "outputs": [],
   "source": [
    "working_folder = 'notebooks/vgg19'\n",
    "models_folder = 'models'\n",
    "from datetime import datetime\n",
    "\n",
    "curr_time = datetime.now()\n",
    "curr_time = curr_time.strftime(\"%Y-%m-%d %H-%M-%S\")\n",
    "\n",
    "output_folder = os.path.join(working_folder, models_folder)\n",
    "output_folder = os.path.join(output_folder, curr_time)"
   ]
  },
  {
   "cell_type": "code",
   "execution_count": 5,
   "metadata": {},
   "outputs": [
    {
     "name": "stderr",
     "output_type": "stream",
     "text": [
      "Downloading: \"https://download.pytorch.org/models/vgg19-dcbb9e9d.pth\" to C:\\Users\\Adm/.cache\\torch\\hub\\checkpoints\\vgg19-dcbb9e9d.pth\n",
      "100.0%\n"
     ]
    }
   ],
   "source": [
    "vgg = VGG19()\n",
    "\n",
    "if CONTINUE_TRAINING:\n",
    "    model = vgg.load(MODEL_WEIGHTS_PATH)\n",
    "else:\n",
    "    model = vgg.load()\n",
    "\n",
    "if not os.path.exists(output_folder):\n",
    "    os.makedirs(output_folder)\n",
    "        \n",
    "device = torch.device(\"cuda:0\" if torch.cuda.is_available() else \"cpu\")\n",
    "             \n",
    "model = model.to(device)"
   ]
  },
  {
   "cell_type": "code",
   "execution_count": 6,
   "metadata": {},
   "outputs": [],
   "source": [
    "criterion = nn.CrossEntropyLoss()\n",
    "\n",
    "# Only the fully connected layer is being optimized\n",
    "# optimizer = optim.SGD(model.classifier.parameters(), lr=LR)\n",
    "# optimizer = optim.SGD(model.parameters(), lr=LR)\n",
    "optimizer = optim.Adamax(model.parameters(), lr=LR)\n",
    "\n",
    "# e.g., you should write your code this way:\n",
    "# for epoch in range(100):\n",
    "#     train(...)\n",
    "#     validate(...)\n",
    "#     scheduler.step()\n",
    "step_lr_scheduler = torch.optim.lr_scheduler.StepLR(optimizer, step_size=LR_EPOCH_SCHEDULE, gamma=LR_GAMMA)\n",
    "es = EarlyStopping(patience=PATIENCE, delta=MIN_DELTA)"
   ]
  },
  {
   "cell_type": "code",
   "execution_count": 7,
   "metadata": {},
   "outputs": [
    {
     "name": "stdout",
     "output_type": "stream",
     "text": [
      "Epoch 1/50\n",
      "----------\n",
      "train Loss: 0.7348 Acc: 0.4926\n",
      "val Loss: 0.6931 Acc: 0.5070\n",
      "Epoch duration: 8 m 15s\n",
      "Learning Rate = 0.001\n",
      "Lower loss found, resetting patience counter\n",
      "\n",
      "Epoch 2/50\n",
      "----------\n",
      "train Loss: 0.6931 Acc: 0.5107\n",
      "val Loss: 0.6930 Acc: 0.5070\n",
      "Epoch duration: 15 m 57s\n",
      "Learning Rate = 0.001\n",
      "Lower loss found, resetting patience counter\n",
      "\n",
      "Epoch 3/50\n",
      "----------\n",
      "train Loss: 0.6932 Acc: 0.5107\n",
      "val Loss: 0.6931 Acc: 0.5070\n",
      "Epoch duration: 14 m 49s\n",
      "Learning Rate = 0.001\n",
      "Loss didnt decrease from 0.693048078409383. Increasing patience counter\n",
      "\n",
      "Epoch 4/50\n",
      "----------\n",
      "train Loss: 0.6932 Acc: 0.5092\n",
      "val Loss: 0.6931 Acc: 0.5070\n",
      "Epoch duration: 14 m 43s\n",
      "Learning Rate = 0.001\n",
      "Loss didnt decrease from 0.693048078409383. Increasing patience counter\n",
      "\n",
      "Epoch 5/50\n",
      "----------\n",
      "train Loss: 0.6930 Acc: 0.5107\n",
      "val Loss: 0.6931 Acc: 0.5070\n",
      "Epoch duration: 15 m 1s\n",
      "Learning Rate = 0.001\n",
      "Loss didnt decrease from 0.693048078409383. Increasing patience counter\n",
      "\n",
      "Epoch 6/50\n",
      "----------\n"
     ]
    },
    {
     "ename": "KeyboardInterrupt",
     "evalue": "",
     "output_type": "error",
     "traceback": [
      "\u001b[1;31m---------------------------------------------------------------------------\u001b[0m",
      "\u001b[1;31mKeyboardInterrupt\u001b[0m                         Traceback (most recent call last)",
      "Cell \u001b[1;32mIn[7], line 3\u001b[0m\n\u001b[0;32m      1\u001b[0m dataset \u001b[38;5;241m=\u001b[39m PytorchDataset(DATA_DIR, vgg\u001b[38;5;241m.\u001b[39mdata_transforms)\n\u001b[0;32m      2\u001b[0m trainer \u001b[38;5;241m=\u001b[39m PytorchTraining(device, dataset, output_folder)\n\u001b[1;32m----> 3\u001b[0m model \u001b[38;5;241m=\u001b[39m \u001b[43mtrainer\u001b[49m\u001b[38;5;241;43m.\u001b[39;49m\u001b[43mtrain_pytorch_model\u001b[49m\u001b[43m(\u001b[49m\u001b[43mmodel\u001b[49m\u001b[43m,\u001b[49m\u001b[43m \u001b[49m\u001b[43mcriterion\u001b[49m\u001b[43m,\u001b[49m\u001b[43m \u001b[49m\u001b[43moptimizer\u001b[49m\u001b[43m,\u001b[49m\u001b[43m \u001b[49m\u001b[43mstep_lr_scheduler\u001b[49m\u001b[43m,\u001b[49m\u001b[43m \u001b[49m\u001b[43mes\u001b[49m\u001b[43m,\u001b[49m\u001b[43m \u001b[49m\u001b[43mSTART_EPOCH\u001b[49m\u001b[43m,\u001b[49m\u001b[43m \u001b[49m\u001b[43mN_EPOCHS\u001b[49m\u001b[43m,\u001b[49m\u001b[43m \u001b[49m\u001b[43mSAVE_INTERVAL\u001b[49m\u001b[43m)\u001b[49m\n",
      "File \u001b[1;32me:\\GitHub\\computervision\\modules\\training_util.py:155\u001b[0m, in \u001b[0;36mPytorchTraining.train_pytorch_model\u001b[1;34m(self, model, criterion, optimizer, scheduler, early_stopper, start_epoch, num_epochs, epoch_save_interval)\u001b[0m\n\u001b[0;32m    152\u001b[0m             optimizer\u001b[38;5;241m.\u001b[39mstep()\n\u001b[0;32m    154\u001b[0m     \u001b[38;5;66;03m# statistics\u001b[39;00m\n\u001b[1;32m--> 155\u001b[0m     running_loss \u001b[38;5;241m+\u001b[39m\u001b[38;5;241m=\u001b[39m \u001b[43mloss\u001b[49m\u001b[38;5;241;43m.\u001b[39;49m\u001b[43mitem\u001b[49m\u001b[43m(\u001b[49m\u001b[43m)\u001b[49m \u001b[38;5;241m*\u001b[39m inputs\u001b[38;5;241m.\u001b[39msize(\u001b[38;5;241m0\u001b[39m)\n\u001b[0;32m    156\u001b[0m     running_corrects \u001b[38;5;241m+\u001b[39m\u001b[38;5;241m=\u001b[39m torch\u001b[38;5;241m.\u001b[39msum(preds \u001b[38;5;241m==\u001b[39m labels\u001b[38;5;241m.\u001b[39mdata)\n\u001b[0;32m    158\u001b[0m \u001b[38;5;28;01mif\u001b[39;00m phase \u001b[38;5;241m==\u001b[39m \u001b[38;5;124m'\u001b[39m\u001b[38;5;124mtrain\u001b[39m\u001b[38;5;124m'\u001b[39m:\n",
      "\u001b[1;31mKeyboardInterrupt\u001b[0m: "
     ]
    }
   ],
   "source": [
    "dataset = PytorchDataset(DATA_DIR, vgg.data_transforms)\n",
    "trainer = PytorchTraining(device, dataset, output_folder)\n",
    "model = trainer.train_pytorch_model(model, criterion, optimizer, step_lr_scheduler, es, START_EPOCH, N_EPOCHS, SAVE_INTERVAL)"
   ]
  }
 ],
 "metadata": {
  "kernelspec": {
   "display_name": "computervision",
   "language": "python",
   "name": "python3"
  },
  "language_info": {
   "codemirror_mode": {
    "name": "ipython",
    "version": 3
   },
   "file_extension": ".py",
   "mimetype": "text/x-python",
   "name": "python",
   "nbconvert_exporter": "python",
   "pygments_lexer": "ipython3",
   "version": "3.12.1"
  }
 },
 "nbformat": 4,
 "nbformat_minor": 2
}

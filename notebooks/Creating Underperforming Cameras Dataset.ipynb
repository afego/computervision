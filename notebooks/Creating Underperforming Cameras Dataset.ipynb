{
 "cells": [
  {
   "cell_type": "code",
   "execution_count": 1,
   "metadata": {},
   "outputs": [
    {
     "name": "stdout",
     "output_type": "stream",
     "text": [
      "E:\\GitHub\\computervision\n"
     ]
    }
   ],
   "source": [
    "cd E:/GitHub/computervision"
   ]
  },
  {
   "cell_type": "code",
   "execution_count": 2,
   "metadata": {},
   "outputs": [],
   "source": [
    "import pandas as pd\n",
    "import numpy as np\n",
    "import os\n",
    "import shutil"
   ]
  },
  {
   "cell_type": "code",
   "execution_count": 3,
   "metadata": {},
   "outputs": [],
   "source": [
    "dataset_path = 'E:/Datasets/cor-splits'\n",
    "images_path = 'E:/GitHub/octa-flood-images/data/images'"
   ]
  },
  {
   "cell_type": "code",
   "execution_count": 4,
   "metadata": {},
   "outputs": [
    {
     "name": "stdout",
     "output_type": "stream",
     "text": [
      "<class 'pandas.core.frame.DataFrame'>\n",
      "RangeIndex: 354192 entries, 0 to 354191\n",
      "Data columns (total 6 columns):\n",
      " #   Column     Non-Null Count   Dtype  \n",
      "---  ------     --------------   -----  \n",
      " 0   code       354192 non-null  float64\n",
      " 1   file_name  354192 non-null  object \n",
      " 2   file_path  354192 non-null  object \n",
      " 3   seen       354192 non-null  bool   \n",
      " 4   tags       354192 non-null  object \n",
      " 5   flood      354192 non-null  int64  \n",
      "dtypes: bool(1), float64(1), int64(1), object(3)\n",
      "memory usage: 13.8+ MB\n"
     ]
    }
   ],
   "source": [
    "df = pd.read_csv('data/images_lite.csv')\n",
    "df = df.drop(['Unnamed: 0'],axis=1)\n",
    "df.info()"
   ]
  },
  {
   "cell_type": "code",
   "execution_count": 5,
   "metadata": {},
   "outputs": [],
   "source": [
    "# for st in df.set.unique():\n",
    "#     print(f\"{st} set: \\n{df[df.set == st].code.unique()}\\n\")\n",
    "# balanced_train = df[df.set == 'train'].code.unique()\n",
    "# balanced_test = df[df.set == 'test'].code.unique()\n",
    "# balanced_val = df[df.set == 'val'].code.unique()"
   ]
  },
  {
   "cell_type": "code",
   "execution_count": 6,
   "metadata": {},
   "outputs": [],
   "source": [
    "# def binarize_tag(tags, cls_1_tags):\n",
    "#     if tags is None:\n",
    "#         return 0\n",
    "#     for tag in cls_1_tags:\n",
    "#         if tag in tags:\n",
    "#             return 1\n",
    "#     return 0\n",
    "\n",
    "# cls_1_tags = ['alagamento', 'bolsão', 'lâmina', 'poça', 'transbordo']\n",
    "# df['flood'] = df['tags'].apply(lambda tags: binarize_tag(tags, cls_1_tags))\n",
    "# df.info()"
   ]
  },
  {
   "cell_type": "code",
   "execution_count": 7,
   "metadata": {},
   "outputs": [
    {
     "data": {
      "text/plain": [
       "123"
      ]
     },
     "execution_count": 7,
     "metadata": {},
     "output_type": "execute_result"
    }
   ],
   "source": [
    "df_filter = df.copy()\n",
    "codes = df.code.unique()\n",
    "\n",
    "for cd in codes:\n",
    "    if df_filter[(df_filter.code == cd) & (df_filter.flood == 0)].shape[0] == 0 or df_filter[(df_filter.code == cd) & (df_filter.flood == 1)].shape[0] == 0:\n",
    "        df_filter = df_filter[df_filter.code != cd]\n",
    "len(df_filter.code.unique())"
   ]
  },
  {
   "cell_type": "code",
   "execution_count": 8,
   "metadata": {},
   "outputs": [],
   "source": [
    "from matplotlib import pyplot as plt\n",
    "def report_class_count_per_group(Y, groups):\n",
    "    cnt_0 = groups[Y == 0.0].value_counts()\n",
    "    cnt_1 = groups[Y == 1.0].value_counts()\n",
    "    cnt_0 = cnt_0.loc[cnt_1.index].sort_values(ascending=False)\n",
    "    code_class_cnt = pd.concat([cnt_0.rename('class 0'), cnt_1.rename('class 1')], axis=1)\n",
    "    display(code_class_cnt.T)\n",
    "    \n",
    "    fig = plt.figure(figsize=(7, 2.5))\n",
    "    ax = fig.subplots(1, 1)    \n",
    "    code_class_cnt.plot.bar(width=0.8, ax=ax)\n",
    "    plt.show()"
   ]
  },
  {
   "cell_type": "code",
   "execution_count": 9,
   "metadata": {},
   "outputs": [
    {
     "data": {
      "text/html": [
       "<div>\n",
       "<style scoped>\n",
       "    .dataframe tbody tr th:only-of-type {\n",
       "        vertical-align: middle;\n",
       "    }\n",
       "\n",
       "    .dataframe tbody tr th {\n",
       "        vertical-align: top;\n",
       "    }\n",
       "\n",
       "    .dataframe thead th {\n",
       "        text-align: right;\n",
       "    }\n",
       "</style>\n",
       "<table border=\"1\" class=\"dataframe\">\n",
       "  <thead>\n",
       "    <tr style=\"text-align: right;\">\n",
       "      <th>code</th>\n",
       "      <th>278.0</th>\n",
       "      <th>326.0</th>\n",
       "      <th>267.0</th>\n",
       "      <th>3181.0</th>\n",
       "      <th>299.0</th>\n",
       "      <th>235.0</th>\n",
       "      <th>92.0</th>\n",
       "      <th>273.0</th>\n",
       "      <th>65.0</th>\n",
       "      <th>18.0</th>\n",
       "      <th>...</th>\n",
       "      <th>1534.0</th>\n",
       "      <th>2002.0</th>\n",
       "      <th>1612.0</th>\n",
       "      <th>1410.0</th>\n",
       "      <th>1170.0</th>\n",
       "      <th>2277.0</th>\n",
       "      <th>1169.0</th>\n",
       "      <th>1139.0</th>\n",
       "      <th>1120.0</th>\n",
       "      <th>126.0</th>\n",
       "    </tr>\n",
       "  </thead>\n",
       "  <tbody>\n",
       "    <tr>\n",
       "      <th>class 0</th>\n",
       "      <td>11458</td>\n",
       "      <td>10299</td>\n",
       "      <td>6321</td>\n",
       "      <td>5443</td>\n",
       "      <td>5108</td>\n",
       "      <td>4409</td>\n",
       "      <td>3552</td>\n",
       "      <td>3497</td>\n",
       "      <td>3231</td>\n",
       "      <td>2834</td>\n",
       "      <td>...</td>\n",
       "      <td>28</td>\n",
       "      <td>26</td>\n",
       "      <td>20</td>\n",
       "      <td>18</td>\n",
       "      <td>18</td>\n",
       "      <td>18</td>\n",
       "      <td>17</td>\n",
       "      <td>17</td>\n",
       "      <td>12</td>\n",
       "      <td>9</td>\n",
       "    </tr>\n",
       "    <tr>\n",
       "      <th>class 1</th>\n",
       "      <td>13157</td>\n",
       "      <td>1167</td>\n",
       "      <td>288</td>\n",
       "      <td>1935</td>\n",
       "      <td>294</td>\n",
       "      <td>6501</td>\n",
       "      <td>800</td>\n",
       "      <td>135</td>\n",
       "      <td>1215</td>\n",
       "      <td>264</td>\n",
       "      <td>...</td>\n",
       "      <td>3234</td>\n",
       "      <td>270</td>\n",
       "      <td>19</td>\n",
       "      <td>54</td>\n",
       "      <td>1468</td>\n",
       "      <td>630</td>\n",
       "      <td>1621</td>\n",
       "      <td>1175</td>\n",
       "      <td>182</td>\n",
       "      <td>9</td>\n",
       "    </tr>\n",
       "  </tbody>\n",
       "</table>\n",
       "<p>2 rows × 123 columns</p>\n",
       "</div>"
      ],
      "text/plain": [
       "code     278.0   326.0   267.0   3181.0  299.0   235.0   92.0    273.0   \\\n",
       "class 0   11458   10299    6321    5443    5108    4409    3552    3497   \n",
       "class 1   13157    1167     288    1935     294    6501     800     135   \n",
       "\n",
       "code     65.0    18.0    ...  1534.0  2002.0  1612.0  1410.0  1170.0  2277.0  \\\n",
       "class 0    3231    2834  ...      28      26      20      18      18      18   \n",
       "class 1    1215     264  ...    3234     270      19      54    1468     630   \n",
       "\n",
       "code     1169.0  1139.0  1120.0  126.0   \n",
       "class 0      17      17      12       9  \n",
       "class 1    1621    1175     182       9  \n",
       "\n",
       "[2 rows x 123 columns]"
      ]
     },
     "metadata": {},
     "output_type": "display_data"
    },
    {
     "data": {
      "image/png": "[encoded data removed]",
      "text/plain": [
       "<Figure size 700x250 with 1 Axes>"
      ]
     },
     "metadata": {},
     "output_type": "display_data"
    }
   ],
   "source": [
    "report_class_count_per_group(df_filter['flood'], df_filter['code'])"
   ]
  },
  {
   "cell_type": "code",
   "execution_count": 10,
   "metadata": {},
   "outputs": [
    {
     "data": {
      "text/plain": [
       "code    flood\n",
       "278.0   1        13157\n",
       "        0        11458\n",
       "326.0   0        10299\n",
       "1538.0  1         7180\n",
       "298.0   1         6803\n",
       "                 ...  \n",
       "1120.0  0           12\n",
       "766.0   1           10\n",
       "1965.0  1            9\n",
       "126.0   1            9\n",
       "        0            9\n",
       "Name: count, Length: 246, dtype: int64"
      ]
     },
     "execution_count": 10,
     "metadata": {},
     "output_type": "execute_result"
    }
   ],
   "source": [
    "series_filter = df_filter[['code','flood']].value_counts()\n",
    "series_filter"
   ]
  },
  {
   "cell_type": "code",
   "execution_count": 11,
   "metadata": {},
   "outputs": [
    {
     "data": {
      "text/plain": [
       "109"
      ]
     },
     "execution_count": 11,
     "metadata": {},
     "output_type": "execute_result"
    }
   ],
   "source": [
    "n_img_per_cls = 30\n",
    "\n",
    "# misturar o df para pegar imagens aleatorias de cada camera por classe\n",
    "df_filter = df_filter.sample(frac=1, replace=False, random_state=42, ignore_index=True)\n",
    "\n",
    "index_dict = {}\n",
    "for cd in codes:\n",
    "    # checar se a camera possui a quantidade de imagens por classe suficiente\n",
    "    if (df_filter[(df_filter.code == cd)&(df_filter.flood == 0)].shape[0] >= n_img_per_cls) and \\\n",
    "        (df_filter[(df_filter.code == cd)&(df_filter.flood == 1)].shape[0] >= n_img_per_cls):\n",
    "        \n",
    "    # pegar os indices de cada imagem caso tenha a quantidade\n",
    "        index_dict[cd] = [\n",
    "            df_filter[(df_filter.code == cd)&(df_filter.flood == 0)].index[:n_img_per_cls],\n",
    "            df_filter[(df_filter.code == cd)&(df_filter.flood == 1)].index[:n_img_per_cls]\n",
    "        ]\n",
    "len(index_dict.keys())"
   ]
  },
  {
   "cell_type": "code",
   "execution_count": 12,
   "metadata": {},
   "outputs": [
    {
     "name": "stdout",
     "output_type": "stream",
     "text": [
      "<class 'pandas.core.frame.DataFrame'>\n",
      "RangeIndex: 0 entries\n",
      "Data columns (total 6 columns):\n",
      " #   Column     Non-Null Count  Dtype \n",
      "---  ------     --------------  ----- \n",
      " 0   code       0 non-null      object\n",
      " 1   file_name  0 non-null      object\n",
      " 2   file_path  0 non-null      object\n",
      " 3   seen       0 non-null      object\n",
      " 4   tags       0 non-null      object\n",
      " 5   flood      0 non-null      object\n",
      "dtypes: object(6)\n",
      "memory usage: 132.0+ bytes\n"
     ]
    }
   ],
   "source": [
    "# criar um novo dataframe somente com os indices recebidos\n",
    "df_final = pd.DataFrame(columns=df_filter.columns)\n",
    "df_final.info()"
   ]
  },
  {
   "cell_type": "code",
   "execution_count": 13,
   "metadata": {},
   "outputs": [
    {
     "name": "stdout",
     "output_type": "stream",
     "text": [
      "109\n",
      "<class 'pandas.core.frame.DataFrame'>\n",
      "RangeIndex: 6540 entries, 0 to 6539\n",
      "Data columns (total 6 columns):\n",
      " #   Column     Non-Null Count  Dtype  \n",
      "---  ------     --------------  -----  \n",
      " 0   code       6540 non-null   float64\n",
      " 1   file_name  6540 non-null   object \n",
      " 2   file_path  6540 non-null   object \n",
      " 3   seen       6540 non-null   object \n",
      " 4   tags       6540 non-null   object \n",
      " 5   flood      6540 non-null   object \n",
      "dtypes: float64(1), object(5)\n",
      "memory usage: 306.7+ KB\n"
     ]
    },
    {
     "name": "stderr",
     "output_type": "stream",
     "text": [
      "C:\\Users\\Adm\\AppData\\Local\\Temp\\ipykernel_11120\\2984404863.py:2: FutureWarning: The behavior of DataFrame concatenation with empty or all-NA entries is deprecated. In a future version, this will no longer exclude empty or all-NA columns when determining the result dtypes. To retain the old behavior, exclude the relevant entries before the concat operation.\n",
      "  df_final = pd.concat([df_final, df_filter.iloc[index_dict[key][0]]], ignore_index=True, join=\"inner\")\n"
     ]
    }
   ],
   "source": [
    "for key in index_dict.keys():\n",
    "    df_final = pd.concat([df_final, df_filter.iloc[index_dict[key][0]]], ignore_index=True, join=\"inner\")\n",
    "    df_final = pd.concat([df_final, df_filter.iloc[index_dict[key][1]]], ignore_index=True, join=\"inner\")\n",
    "print(len(df_final.code.unique()))\n",
    "df_final.info()"
   ]
  },
  {
   "cell_type": "code",
   "execution_count": 14,
   "metadata": {},
   "outputs": [
    {
     "data": {
      "text/plain": [
       "109"
      ]
     },
     "execution_count": 14,
     "metadata": {},
     "output_type": "execute_result"
    }
   ],
   "source": [
    "len(df_final[df_final.seen == True].code.unique())"
   ]
  },
  {
   "cell_type": "code",
   "execution_count": 15,
   "metadata": {},
   "outputs": [],
   "source": [
    "codes = df_final.code.unique()"
   ]
  },
  {
   "cell_type": "code",
   "execution_count": 16,
   "metadata": {},
   "outputs": [],
   "source": [
    "handpicked_train = [298,430,38,94,153,1147,313,1538,268,92,\n",
    "                    \n",
    "                    2396,1216,442,1460,115,32,363,1506,240,3135,\n",
    "                    \n",
    "                    326,299,169,2015,2280,1162,114,1535,1636,58,\n",
    "                    \n",
    "                    3323,1557,1182,278,1638,120,418,1727,1459,1080,\n",
    "                    \n",
    "                    596,267,1462,2166,3181,183,1430,1546,390,127,\n",
    "                    \n",
    "                    2216,1606,1514,2206,2365,1591,724,160,1487,1119, #0.4 < < 0.59\n",
    "                    1477,561,3347,341,1884,1539,2221,158,230,2158,\n",
    "                    \n",
    "                    384,269,1587,1161,2052,3220,1474,273,2278,1475, #0.4 < < 0.69\n",
    "                    339,1083,77,18,2361,65,1524,1639,2270,44,\n",
    "                    \n",
    "                    482,3133,136,262,1393,3134\n",
    "                    ]\n",
    "possible_train = [1431,235]\n",
    "handpicked_train.extend(possible_train)"
   ]
  },
  {
   "cell_type": "code",
   "execution_count": 17,
   "metadata": {},
   "outputs": [
    {
     "data": {
      "text/plain": [
       "96"
      ]
     },
     "execution_count": 17,
     "metadata": {},
     "output_type": "execute_result"
    }
   ],
   "source": [
    "# separar as cameras em treino e validacao, usando como base as listas criadas anteriormente\n",
    "train_codes = list(set(codes).intersection(handpicked_train))\n",
    "len(train_codes)"
   ]
  },
  {
   "cell_type": "code",
   "execution_count": 18,
   "metadata": {},
   "outputs": [
    {
     "data": {
      "text/plain": [
       "{153, 268}"
      ]
     },
     "execution_count": 18,
     "metadata": {},
     "output_type": "execute_result"
    }
   ],
   "source": [
    "set(handpicked_train) - set(codes)"
   ]
  },
  {
   "cell_type": "markdown",
   "metadata": {},
   "source": [
    "O df não possui essas câmeras que defini previamente para treino"
   ]
  },
  {
   "cell_type": "code",
   "execution_count": 19,
   "metadata": {},
   "outputs": [
    {
     "data": {
      "text/plain": [
       "13"
      ]
     },
     "execution_count": 19,
     "metadata": {},
     "output_type": "execute_result"
    }
   ],
   "source": [
    "test_codes = list(set(codes) - set(train_codes))\n",
    "len(test_codes)"
   ]
  },
  {
   "cell_type": "code",
   "execution_count": 20,
   "metadata": {},
   "outputs": [],
   "source": [
    "def train_test_split(code, train_list):\n",
    "    if code in train_list:\n",
    "        return 'train'\n",
    "    return 'val'"
   ]
  },
  {
   "cell_type": "code",
   "execution_count": 21,
   "metadata": {},
   "outputs": [
    {
     "data": {
      "text/html": [
       "<div>\n",
       "<style scoped>\n",
       "    .dataframe tbody tr th:only-of-type {\n",
       "        vertical-align: middle;\n",
       "    }\n",
       "\n",
       "    .dataframe tbody tr th {\n",
       "        vertical-align: top;\n",
       "    }\n",
       "\n",
       "    .dataframe thead th {\n",
       "        text-align: right;\n",
       "    }\n",
       "</style>\n",
       "<table border=\"1\" class=\"dataframe\">\n",
       "  <thead>\n",
       "    <tr style=\"text-align: right;\">\n",
       "      <th></th>\n",
       "      <th>code</th>\n",
       "      <th>file_name</th>\n",
       "      <th>file_path</th>\n",
       "      <th>seen</th>\n",
       "      <th>tags</th>\n",
       "      <th>flood</th>\n",
       "      <th>split</th>\n",
       "    </tr>\n",
       "  </thead>\n",
       "  <tbody>\n",
       "    <tr>\n",
       "      <th>0</th>\n",
       "      <td>1461.0</td>\n",
       "      <td>CODE1461 2023-04-08 13-16-13-6.jpg</td>\n",
       "      <td>comando/bolsao/94390/1461/CODE1461 2023-04-08 ...</td>\n",
       "      <td>True</td>\n",
       "      <td>[]</td>\n",
       "      <td>0</td>\n",
       "      <td>val</td>\n",
       "    </tr>\n",
       "    <tr>\n",
       "      <th>1</th>\n",
       "      <td>1461.0</td>\n",
       "      <td>CODE1461 2023-04-08 13-56-07-3.jpg</td>\n",
       "      <td>comando/bolsao/94390/1461/CODE1461 2023-04-08 ...</td>\n",
       "      <td>True</td>\n",
       "      <td>[]</td>\n",
       "      <td>0</td>\n",
       "      <td>val</td>\n",
       "    </tr>\n",
       "    <tr>\n",
       "      <th>2</th>\n",
       "      <td>1461.0</td>\n",
       "      <td>CODE1461 2023-08-27 05-00-10-3.jpg</td>\n",
       "      <td>polygons/comando/bolsao/0/1461/CODE1461 2023-0...</td>\n",
       "      <td>True</td>\n",
       "      <td>[]</td>\n",
       "      <td>0</td>\n",
       "      <td>val</td>\n",
       "    </tr>\n",
       "    <tr>\n",
       "      <th>3</th>\n",
       "      <td>1461.0</td>\n",
       "      <td>CODE1461 2023-08-27 04-30-13-3.jpg</td>\n",
       "      <td>polygons/comando/bolsao/0/1461/CODE1461 2023-0...</td>\n",
       "      <td>True</td>\n",
       "      <td>[]</td>\n",
       "      <td>0</td>\n",
       "      <td>val</td>\n",
       "    </tr>\n",
       "    <tr>\n",
       "      <th>4</th>\n",
       "      <td>1461.0</td>\n",
       "      <td>CODE1461 2023-08-27 05-10-15-9.jpg</td>\n",
       "      <td>polygons/comando/bolsao/0/1461/CODE1461 2023-0...</td>\n",
       "      <td>True</td>\n",
       "      <td>[]</td>\n",
       "      <td>0</td>\n",
       "      <td>val</td>\n",
       "    </tr>\n",
       "  </tbody>\n",
       "</table>\n",
       "</div>"
      ],
      "text/plain": [
       "     code                           file_name  \\\n",
       "0  1461.0  CODE1461 2023-04-08 13-16-13-6.jpg   \n",
       "1  1461.0  CODE1461 2023-04-08 13-56-07-3.jpg   \n",
       "2  1461.0  CODE1461 2023-08-27 05-00-10-3.jpg   \n",
       "3  1461.0  CODE1461 2023-08-27 04-30-13-3.jpg   \n",
       "4  1461.0  CODE1461 2023-08-27 05-10-15-9.jpg   \n",
       "\n",
       "                                           file_path  seen tags flood split  \n",
       "0  comando/bolsao/94390/1461/CODE1461 2023-04-08 ...  True   []     0   val  \n",
       "1  comando/bolsao/94390/1461/CODE1461 2023-04-08 ...  True   []     0   val  \n",
       "2  polygons/comando/bolsao/0/1461/CODE1461 2023-0...  True   []     0   val  \n",
       "3  polygons/comando/bolsao/0/1461/CODE1461 2023-0...  True   []     0   val  \n",
       "4  polygons/comando/bolsao/0/1461/CODE1461 2023-0...  True   []     0   val  "
      ]
     },
     "execution_count": 21,
     "metadata": {},
     "output_type": "execute_result"
    }
   ],
   "source": [
    "df_final['split'] = df_final['code'].apply(lambda cd: train_test_split(cd, train_codes))\n",
    "df_final.head()"
   ]
  },
  {
   "cell_type": "code",
   "execution_count": 22,
   "metadata": {},
   "outputs": [
    {
     "name": "stdout",
     "output_type": "stream",
     "text": [
      "780 val images\n",
      "5760 train images\n"
     ]
    }
   ],
   "source": [
    "for splt in df_final.split.unique():\n",
    "    print(f\"{df_final[df_final.split == splt].shape[0]} {splt} images\")"
   ]
  },
  {
   "cell_type": "code",
   "execution_count": 23,
   "metadata": {},
   "outputs": [],
   "source": [
    "dataset_dir = os.path.join(dataset_path,f'underperforming_cameras_{len(train_codes)}')\n",
    "for splt in df_final.split.unique():\n",
    "    \n",
    "    split_dir = os.path.join(dataset_dir, splt)\n",
    "    if not os.path.exists(split_dir):\n",
    "        os.makedirs(split_dir)\n",
    "    \n",
    "    for fld in df_final.flood.unique():\n",
    "        class_dir = os.path.join(split_dir, str(fld))\n",
    "        if not os.path.exists(class_dir):\n",
    "            os.makedirs(class_dir)\n",
    "        \n",
    "    \n",
    "df_final.to_csv(os.path.join(dataset_dir, 'images.csv'))"
   ]
  },
  {
   "cell_type": "code",
   "execution_count": 24,
   "metadata": {},
   "outputs": [
    {
     "name": "stdout",
     "output_type": "stream",
     "text": [
      "Copied 7/780 val images\r"
     ]
    },
    {
     "name": "stdout",
     "output_type": "stream",
     "text": [
      "Completed copying 780 val images\n",
      "Completed copying 5760 train images\n"
     ]
    }
   ],
   "source": [
    "for splt in df_final.split.unique():\n",
    "    n_rows = df_final[df_final.split == splt].shape[0]\n",
    "    counter = 1\n",
    "    for index, row in df_final[df_final.split == splt].iterrows():\n",
    "    \n",
    "        output_path = os.path.join(dataset_dir, row['split'])\n",
    "        output_path = os.path.join(output_path, str(row['flood']))\n",
    "        output_path = os.path.join(output_path, row['file_name'])\n",
    "        shutil.copy(os.path.join(images_path, row['file_path']), output_path)\n",
    "        \n",
    "        print(f\"Copied {counter}/{n_rows} {splt} images\", end='\\r')\n",
    "        counter += 1\n",
    "    print(f\"Completed copying {n_rows} {splt} images\")"
   ]
  }
 ],
 "metadata": {
  "kernelspec": {
   "display_name": "computervision",
   "language": "python",
   "name": "python3"
  },
  "language_info": {
   "codemirror_mode": {
    "name": "ipython",
    "version": 3
   },
   "file_extension": ".py",
   "mimetype": "text/x-python",
   "name": "python",
   "nbconvert_exporter": "python",
   "pygments_lexer": "ipython3",
   "version": "3.12.1"
  }
 },
 "nbformat": 4,
 "nbformat_minor": 2
}

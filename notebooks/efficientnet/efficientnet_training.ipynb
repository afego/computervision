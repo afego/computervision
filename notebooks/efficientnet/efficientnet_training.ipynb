{
 "cells": [
  {
   "cell_type": "code",
   "execution_count": 1,
   "metadata": {},
   "outputs": [
    {
     "name": "stdout",
     "output_type": "stream",
     "text": [
      "e:\\GitHub\\computervision\n"
     ]
    }
   ],
   "source": [
    "cd ../.."
   ]
  },
  {
   "cell_type": "code",
   "execution_count": 2,
   "metadata": {},
   "outputs": [],
   "source": [
    "import numpy as np\n",
    "import os\n",
    "import torch\n",
    "\n",
    "import torch.nn as nn\n",
    "import torch.optim as optim\n",
    "\n",
    "from modules.training_util import PytorchDataset, PytorchTraining, EarlyStopping\n",
    "from modules.models_util import EfficientNet"
   ]
  },
  {
   "cell_type": "code",
   "execution_count": 3,
   "metadata": {},
   "outputs": [],
   "source": [
    "# Variables for continuing previous training\n",
    "CONTINUE_TRAINING = False\n",
    "MODEL_WEIGHTS_PATH = 'notebooks/efficientnet/models//'\n",
    "\n",
    "# CONFIG VARIABLES\n",
    "DATA_DIR = 'E:/Datasets/cor-splits/sgkf-8-1-1-2000'\n",
    "START_EPOCH = 1 # Change it if you're continuing an existing run\n",
    "N_EPOCHS = 50\n",
    "## Learning Rate Scheduler\n",
    "LR = 0.001  # When continuing a existing run, update it to the last epoch LR value\n",
    "LR_EPOCH_SCHEDULE = 10  # Number of epochs before altering LR\n",
    "LR_GAMMA = 0.1\n",
    "SAVE_INTERVAL = 5 # How many epochs between each backup\n",
    "## Early Stopping\n",
    "PATIENCE = 10\n",
    "MIN_DELTA = 0\n",
    "MIN_EPOCH = 20"
   ]
  },
  {
   "cell_type": "code",
   "execution_count": 4,
   "metadata": {},
   "outputs": [],
   "source": [
    "working_folder = 'notebooks/efficientnet'\n",
    "models_folder = 'models'\n",
    "from datetime import datetime\n",
    "\n",
    "curr_time = datetime.now()\n",
    "curr_time = curr_time.strftime(\"%Y-%m-%d %H-%M-%S\")\n",
    "\n",
    "output_folder = os.path.join(working_folder, models_folder)\n",
    "output_folder = os.path.join(output_folder, curr_time)"
   ]
  },
  {
   "cell_type": "code",
   "execution_count": 5,
   "metadata": {},
   "outputs": [],
   "source": [
    "# # efficientnet_b0\n",
    "# mean = np.array([0.485, 0.456, 0.406])\n",
    "# std = np.array([0.229, 0.224, 0.225])\n",
    "\n",
    "# data_transforms = {\n",
    "#     'train': transforms.Compose([\n",
    "#         transforms.RandomHorizontalFlip(),\n",
    "#         transforms.Resize(256, transforms.InterpolationMode.BICUBIC),\n",
    "#         transforms.CenterCrop(224),\n",
    "#         transforms.ToTensor(), # When converting to tensor, pytorch automatically rescales to [0,1]\n",
    "#         transforms.Normalize(mean, std)\n",
    "#     ]),\n",
    "#     'val': transforms.Compose([\n",
    "#         transforms.Resize(256, transforms.InterpolationMode.BICUBIC),\n",
    "#         transforms.CenterCrop(224),\n",
    "#         transforms.ToTensor(),\n",
    "#         transforms.Normalize(mean, std)\n",
    "#     ]),\n",
    "# }"
   ]
  },
  {
   "cell_type": "code",
   "execution_count": 6,
   "metadata": {},
   "outputs": [],
   "source": [
    "# model = models.efficientnet_b0(weights=models.EfficientNet_B0_Weights.DEFAULT)\n",
    "\n",
    "# for param in model.parameters(): # Turning parameters not trainable\n",
    "#     param.requires_grad = True\n",
    "\n",
    "# # A newly defined layer is created with requires_grad=True by default\n",
    "# model.classifier = nn.Sequential(\n",
    "#     nn.Dropout(p=0.2, inplace=True),\n",
    "#     nn.Linear(in_features=1280, out_features=2)\n",
    "#     )\n",
    "\n",
    "# if CONTINUE_TRAINING:\n",
    "#     output_folder = MODEL_WEIGHTS_PATH\n",
    "#     model.load_state_dict(torch.load(output_folder+MODEL_LAST_EPOCH))\n",
    "# else:\n",
    "#     if not os.path.exists(output_folder): \n",
    "#         os.makedirs(output_folder)"
   ]
  },
  {
   "cell_type": "code",
   "execution_count": 7,
   "metadata": {},
   "outputs": [],
   "source": [
    "eff_net = EfficientNet()\n",
    "\n",
    "if CONTINUE_TRAINING:\n",
    "    model = eff_net.load(MODEL_WEIGHTS_PATH)\n",
    "else:\n",
    "    model = eff_net.load()\n",
    "\n",
    "if not os.path.exists(output_folder):\n",
    "    os.makedirs(output_folder)\n",
    "        \n",
    "device = torch.device(\"cuda:0\" if torch.cuda.is_available() else \"cpu\")\n",
    "             \n",
    "model = model.to(device)"
   ]
  },
  {
   "cell_type": "code",
   "execution_count": 8,
   "metadata": {},
   "outputs": [],
   "source": [
    "criterion = nn.CrossEntropyLoss()\n",
    "\n",
    "# Only the fully connected layer is being optimized\n",
    "# optimizer = optim.SGD(model.classifier.parameters(), lr=LR)\n",
    "# optimizer = optim.SGD(model.parameters(), lr=LR)\n",
    "optimizer = optim.Adamax(model.parameters(), lr=LR)\n",
    "\n",
    "# e.g., you should write your code this way:\n",
    "# for epoch in range(100):\n",
    "#     train(...)\n",
    "#     validate(...)\n",
    "#     scheduler.step()\n",
    "step_lr_scheduler = torch.optim.lr_scheduler.StepLR(optimizer, step_size=LR_EPOCH_SCHEDULE, gamma=LR_GAMMA)\n",
    "es = EarlyStopping(patience=PATIENCE, delta=MIN_DELTA, min_epoch=MIN_EPOCH)"
   ]
  },
  {
   "cell_type": "code",
   "execution_count": 9,
   "metadata": {},
   "outputs": [
    {
     "name": "stdout",
     "output_type": "stream",
     "text": [
      "Epoch 1/50\n",
      "----------\n",
      "train Loss: 0.1753 Acc: 0.9315\n",
      "val Loss: 0.4168 Acc: 0.8169\n",
      "Epoch duration: 0 m 52s\n",
      "Learning Rate = 0.001\n",
      "Lower loss found, resetting patience counter\n",
      "\n",
      "Epoch 2/50\n",
      "----------\n",
      "train Loss: 0.0592 Acc: 0.9784\n",
      "val Loss: 0.5673 Acc: 0.7934\n",
      "Epoch duration: 0 m 51s\n",
      "Learning Rate = 0.001\n",
      "Loss didnt decrease from 0.4168. Increasing patience counter\n",
      "\n",
      "Epoch 3/50\n",
      "----------\n",
      "train Loss: 0.0328 Acc: 0.9890\n",
      "val Loss: 0.6002 Acc: 0.7981\n",
      "Epoch duration: 0 m 49s\n",
      "Learning Rate = 0.001\n",
      "Loss didnt decrease from 0.4168. Increasing patience counter\n",
      "\n",
      "Epoch 4/50\n",
      "----------\n",
      "train Loss: 0.0243 Acc: 0.9920\n",
      "val Loss: 0.5349 Acc: 0.8169\n",
      "Epoch duration: 0 m 46s\n",
      "Learning Rate = 0.001\n",
      "Loss didnt decrease from 0.4168. Increasing patience counter\n",
      "\n",
      "Epoch 5/50\n",
      "----------\n",
      "train Loss: 0.0162 Acc: 0.9947\n",
      "val Loss: 0.5289 Acc: 0.8192\n",
      "Epoch duration: 0 m 52s\n",
      "Learning Rate = 0.001\n",
      "Loss didnt decrease from 0.4168. Increasing patience counter\n",
      "\n",
      "Epoch 6/50\n",
      "----------\n",
      "train Loss: 0.0145 Acc: 0.9953\n",
      "val Loss: 0.4884 Acc: 0.8239\n",
      "Epoch duration: 0 m 52s\n",
      "Learning Rate = 0.001\n",
      "Loss didnt decrease from 0.4168. Increasing patience counter\n",
      "\n",
      "Epoch 7/50\n",
      "----------\n",
      "train Loss: 0.0166 Acc: 0.9944\n",
      "val Loss: 0.5012 Acc: 0.8310\n",
      "Epoch duration: 0 m 44s\n",
      "Learning Rate = 0.001\n",
      "Loss didnt decrease from 0.4168. Increasing patience counter\n",
      "\n",
      "Epoch 8/50\n",
      "----------\n",
      "train Loss: 0.0127 Acc: 0.9947\n",
      "val Loss: 0.5807 Acc: 0.8239\n",
      "Epoch duration: 0 m 47s\n",
      "Learning Rate = 0.001\n",
      "Loss didnt decrease from 0.4168. Increasing patience counter\n",
      "\n",
      "Epoch 9/50\n",
      "----------\n",
      "train Loss: 0.0140 Acc: 0.9944\n",
      "val Loss: 0.6628 Acc: 0.8005\n",
      "Epoch duration: 0 m 51s\n",
      "Learning Rate = 0.001\n",
      "Loss didnt decrease from 0.4168. Increasing patience counter\n",
      "\n",
      "Epoch 10/50\n",
      "----------\n",
      "train Loss: 0.0213 Acc: 0.9947\n",
      "val Loss: 0.7951 Acc: 0.7911\n",
      "Epoch duration: 0 m 49s\n",
      "Learning Rate = 0.0001\n",
      "Loss didnt decrease from 0.4168. Increasing patience counter\n",
      "\n",
      "Epoch 11/50\n",
      "----------\n",
      "train Loss: 0.0096 Acc: 0.9976\n",
      "val Loss: 0.6494 Acc: 0.8028\n",
      "Epoch duration: 0 m 53s\n",
      "Learning Rate = 0.0001\n",
      "Early stopping after 10 epochs\n",
      "\n",
      "Training complete in 9m 7s\n",
      "Best val Acc: 0.830986\n"
     ]
    }
   ],
   "source": [
    "dataset = PytorchDataset(DATA_DIR, eff_net.data_transforms)\n",
    "trainer = PytorchTraining(device, dataset, output_folder)\n",
    "model = trainer.train_pytorch_model(model, criterion, optimizer, step_lr_scheduler, es, START_EPOCH, N_EPOCHS, SAVE_INTERVAL)"
   ]
  }
 ],
 "metadata": {
  "kernelspec": {
   "display_name": "cv",
   "language": "python",
   "name": "python3"
  },
  "language_info": {
   "codemirror_mode": {
    "name": "ipython",
    "version": 3
   },
   "file_extension": ".py",
   "mimetype": "text/x-python",
   "name": "python",
   "nbconvert_exporter": "python",
   "pygments_lexer": "ipython3",
   "version": "3.12.1"
  }
 },
 "nbformat": 4,
 "nbformat_minor": 2
}
